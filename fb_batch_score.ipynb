{
 "cells": [
  {
   "cell_type": "code",
   "execution_count": 1,
   "metadata": {},
   "outputs": [],
   "source": [
    "import boto3\n",
    "import datetime as dt\n",
    "import pytz\n",
    "import time\n",
    "import uuid\n",
    "import json\n",
    "import s3fs\n",
    "import pandas as pd\n",
    "import requests\n",
    "import numpy as np\n",
    "from decimal import *\n"
   ]
  },
  {
   "cell_type": "code",
   "execution_count": 3,
   "metadata": {},
   "outputs": [],
   "source": [
    "tz = pytz.timezone('EST')\n",
    "\n",
    "today = dt.datetime.now(tz)\n",
    "sevenday = today - dt.timedelta(days=7)"
   ]
  },
  {
   "cell_type": "code",
   "execution_count": 4,
   "metadata": {},
   "outputs": [],
   "source": [
    "# query athena view of impression, click, and joined conversion data for tag_id 3\n",
    "query = \"\"\"\n",
    "select * from (SELECT  conversions,\n",
    "         campaign_id,\n",
    "         impressions,\n",
    "         clicks,\n",
    "         app_bundle,\n",
    "         ad_position,\n",
    "         geo_region,\n",
    "         geo_country,\n",
    "         platform_browser,\n",
    "         platform_os,\n",
    "         rewarded,\n",
    "         platform_carrier,\n",
    "         platform_device_make,\n",
    "         platform_device_model,\n",
    "         video_player_size,\n",
    "         video_completes,\n",
    "         content_language,\n",
    "         time_of_week,\n",
    "         companion_views,\n",
    "         companion_clicks,\n",
    "         banner_width,\n",
    "         banner_height,\n",
    "         inventory_source,\n",
    "         inventory_interstitial,\n",
    "         spend\n",
    "FROM \"fb-prod\".\"fb-model-builder\" TABLESAMPLE BERNOULLI (0.03)  where conversions = 0\n",
    "UNION ALL\n",
    "SELECT  conversions,\n",
    "         campaign_id,\n",
    "         impressions,\n",
    "         clicks,\n",
    "         app_bundle,\n",
    "         ad_position,\n",
    "         geo_region,\n",
    "         geo_country,\n",
    "         platform_browser,\n",
    "         platform_os,\n",
    "         rewarded,\n",
    "         platform_carrier,\n",
    "         platform_device_make,\n",
    "         platform_device_model,\n",
    "         video_player_size,\n",
    "         video_completes,\n",
    "         content_language,\n",
    "         time_of_week,\n",
    "         companion_views,\n",
    "         companion_clicks,\n",
    "         banner_width,\n",
    "         banner_height,\n",
    "         inventory_source,\n",
    "         inventory_interstitial,\n",
    "         spend\n",
    "FROM \"fb-prod\".\"fb-model-builder\" where conversions > 0) order by random()\n",
    "\"\"\"\n"
   ]
  },
  {
   "cell_type": "code",
   "execution_count": 5,
   "metadata": {},
   "outputs": [
    {
     "name": "stdout",
     "output_type": "stream",
     "text": [
      "Execution ID: 51d7d92c-1679-4f8f-acd0-663b95a7f97d\n",
      "query processing for 0 seconds\n"
     ]
    }
   ],
   "source": [
    "\n",
    "# set database to facebook\n",
    "database = 'fb-prod'\n",
    "#set s3 output file for athena query\n",
    "s3_output = 's3://fb-beeswax/brian/athena/%s/'%(dt.datetime.now(tz).strftime('%Y-%m-%d-%H%M%S'))\n",
    "\n",
    "#Function for starting athena query\n",
    "def run_query(query, database, s3_output):\n",
    "    client = boto3.client('athena', region_name='us-east-1')\n",
    "    response = client.start_query_execution(\n",
    "        QueryString=query,\n",
    "        QueryExecutionContext={\n",
    "            'Database': database\n",
    "            },\n",
    "        ResultConfiguration={\n",
    "            'OutputLocation': s3_output,\n",
    "            }\n",
    "        )\n",
    "    print('Execution ID: ' + response['QueryExecutionId'])\n",
    "    return response\n",
    "\n",
    "#run athena query and kick back job id\n",
    "job = run_query(query, database, s3_output)\n",
    "\n",
    "job_id = job['QueryExecutionId']\n",
    "client = boto3.client('athena', region_name='us-east-1')\n",
    "res = client.get_query_execution(QueryExecutionId= job_id)\n",
    "x = 0\n",
    "\n",
    "# waith for athena to return results\n",
    "while res['QueryExecution']['Status']['State'] != 'SUCCEEDED':\n",
    "    print(\"query processing for %s seconds\" %str(x))\n",
    "    time.sleep(10)\n",
    "    x = x + 10\n",
    "    res = client.get_query_execution(QueryExecutionId= job_id)\n",
    "\n",
    "#set output location for query results\n",
    "output = res['QueryExecution']['ResultConfiguration']['OutputLocation']\n"
   ]
  },
  {
   "cell_type": "code",
   "execution_count": 6,
   "metadata": {},
   "outputs": [
    {
     "data": {
      "text/plain": [
       "u's3://fb-beeswax/brian/athena/2019-02-18-215535/51d7d92c-1679-4f8f-acd0-663b95a7f97d.csv'"
      ]
     },
     "execution_count": 6,
     "metadata": {},
     "output_type": "execute_result"
    }
   ],
   "source": [
    "output"
   ]
  },
  {
   "cell_type": "code",
   "execution_count": null,
   "metadata": {},
   "outputs": [],
   "source": []
  }
 ],
 "metadata": {
  "kernelspec": {
   "display_name": "conda_python2",
   "language": "python",
   "name": "conda_python2"
  },
  "language_info": {
   "codemirror_mode": {
    "name": "ipython",
    "version": 2
   },
   "file_extension": ".py",
   "mimetype": "text/x-python",
   "name": "python",
   "nbconvert_exporter": "python",
   "pygments_lexer": "ipython2",
   "version": "2.7.15"
  }
 },
 "nbformat": 4,
 "nbformat_minor": 2
}
