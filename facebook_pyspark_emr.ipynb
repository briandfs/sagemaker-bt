{
 "cells": [
  {
   "cell_type": "code",
   "execution_count": 1,
   "metadata": {},
   "outputs": [
    {
     "data": {
      "text/html": [
       "Current session configs: <tt>{'driverMemory': '1000M', 'executorCores': 2, 'kind': 'pyspark'}</tt><br>"
      ],
      "text/plain": [
       "<IPython.core.display.HTML object>"
      ]
     },
     "metadata": {},
     "output_type": "display_data"
    },
    {
     "data": {
      "text/html": [
       "No active sessions."
      ],
      "text/plain": [
       "<IPython.core.display.HTML object>"
      ]
     },
     "metadata": {},
     "output_type": "display_data"
    }
   ],
   "source": [
    "%%info"
   ]
  },
  {
   "cell_type": "code",
   "execution_count": 2,
   "metadata": {},
   "outputs": [
    {
     "name": "stdout",
     "output_type": "stream",
     "text": [
      "Starting Spark application\n"
     ]
    },
    {
     "data": {
      "text/html": [
       "<table>\n",
       "<tr><th>ID</th><th>YARN Application ID</th><th>Kind</th><th>State</th><th>Spark UI</th><th>Driver log</th><th>Current session?</th></tr><tr><td>0</td><td>application_1552058134055_0001</td><td>pyspark</td><td>idle</td><td><a target=\"_blank\" href=\"http://ip-172-31-61-152.ec2.internal:20888/proxy/application_1552058134055_0001/\">Link</a></td><td><a target=\"_blank\" href=\"http://ip-172-31-51-208.ec2.internal:8042/node/containerlogs/container_1552058134055_0001_01_000001/livy\">Link</a></td><td>✔</td></tr></table>"
      ],
      "text/plain": [
       "<IPython.core.display.HTML object>"
      ]
     },
     "metadata": {},
     "output_type": "display_data"
    },
    {
     "name": "stdout",
     "output_type": "stream",
     "text": [
      "SparkSession available as 'spark'.\n",
      "<pyspark.sql.session.SparkSession object at 0x7f7697231d10>"
     ]
    }
   ],
   "source": [
    "spark"
   ]
  },
  {
   "cell_type": "code",
   "execution_count": 3,
   "metadata": {},
   "outputs": [],
   "source": [
    "df = spark.read.csv(\"s3://fb-beeswax-east/beeswax-logs/segments/year=2019/month=03/day=07/hour=12/min=35/*.gz\", header=True)"
   ]
  },
  {
   "cell_type": "code",
   "execution_count": 4,
   "metadata": {},
   "outputs": [
    {
     "name": "stdout",
     "output_type": "stream",
     "text": [
      "[Row(auction_id=u'1551961905733541.3251394794.1819.facebook', user_id=u'mid.01C12F41-AC12-4DD0-8D86-D447B9D6F7B7', user_id_hashed=None, segment_id=None), Row(auction_id=u'1551961905764363.747730048.2327.facebook', user_id=u'mid.CD9F2322-F55D-4BC4-BC7D-F27757D51A8B', user_id_hashed=None, segment_id=None), Row(auction_id=u'1551961905740241.1322251500.3607.facebook', user_id=u'mid.9F6A5A77-BDEC-4155-8DCE-9533C248EC6A', user_id_hashed=None, segment_id=u'facebook-21,'), Row(auction_id=u'1551961905758703.3140360970.1814.facebook', user_id=u'mid.E05F203E-92CC-4214-B272-E53CE6B16945', user_id_hashed=None, segment_id=None), Row(auction_id=u'1551961905746864.3887277199.1807.facebook', user_id=u'mid.9948BF85-B6E3-4EDD-94C2-8460E153158F', user_id_hashed=None, segment_id=None)]"
     ]
    }
   ],
   "source": [
    "df.head(5)"
   ]
  },
  {
   "cell_type": "code",
   "execution_count": 5,
   "metadata": {},
   "outputs": [
    {
     "name": "stdout",
     "output_type": "stream",
     "text": [
      "root\n",
      " |-- auction_id: string (nullable = true)\n",
      " |-- user_id: string (nullable = true)\n",
      " |-- user_id_hashed: string (nullable = true)\n",
      " |-- segment_id: string (nullable = true)"
     ]
    }
   ],
   "source": [
    "df.printSchema()"
   ]
  },
  {
   "cell_type": "code",
   "execution_count": 28,
   "metadata": {},
   "outputs": [
    {
     "name": "stdout",
     "output_type": "stream",
     "text": [
      "6741576476"
     ]
    }
   ],
   "source": [
    "df.count()"
   ]
  },
  {
   "cell_type": "code",
   "execution_count": 6,
   "metadata": {},
   "outputs": [
    {
     "name": "stdout",
     "output_type": "stream",
     "text": [
      "+-------+--------------------+--------------------+--------------+--------------------+\n",
      "|summary|          auction_id|             user_id|user_id_hashed|          segment_id|\n",
      "+-------+--------------------+--------------------+--------------+--------------------+\n",
      "|  count|             5599072|             5599072|             0|             1489907|\n",
      "|   mean|                null|                null|          null|                null|\n",
      "| stddev|                null|                null|          null|                null|\n",
      "|    min|1551961846282238....|\"mid.DATA-SPOTX_C...|          null|                1:0,|\n",
      "|    max|1551962128513752....|mid.{{REPLACE_ME}...|          null|facebook-24,faceb...|\n",
      "+-------+--------------------+--------------------+--------------+--------------------+"
     ]
    }
   ],
   "source": [
    "df.describe().show()"
   ]
  },
  {
   "cell_type": "code",
   "execution_count": null,
   "metadata": {},
   "outputs": [],
   "source": [
    "df['segment_id']"
   ]
  }
 ],
 "metadata": {
  "kernelspec": {
   "display_name": "Sparkmagic (PySpark)",
   "language": "",
   "name": "pysparkkernel"
  },
  "language_info": {
   "codemirror_mode": {
    "name": "python",
    "version": 2
   },
   "mimetype": "text/x-python",
   "name": "pyspark",
   "pygments_lexer": "python2"
  }
 },
 "nbformat": 4,
 "nbformat_minor": 2
}
