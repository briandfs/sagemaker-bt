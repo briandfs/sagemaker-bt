{
 "cells": [
  {
   "cell_type": "code",
   "execution_count": 5,
   "metadata": {},
   "outputs": [],
   "source": [
    "import pyhive"
   ]
  },
  {
   "cell_type": "code",
   "execution_count": 6,
   "metadata": {},
   "outputs": [],
   "source": [
    "#!conda install pyhive --y"
   ]
  },
  {
   "cell_type": "code",
   "execution_count": 7,
   "metadata": {},
   "outputs": [],
   "source": [
    "from pyhive import hive  # or import hive\n",
    "cursor = hive.connect('172.31.56.255', username='hadoop').cursor()"
   ]
  },
  {
   "cell_type": "code",
   "execution_count": 8,
   "metadata": {},
   "outputs": [],
   "source": [
    "cursor.execute(\"show tables\")"
   ]
  },
  {
   "cell_type": "code",
   "execution_count": 9,
   "metadata": {},
   "outputs": [
    {
     "name": "stdout",
     "output_type": "stream",
     "text": [
      "[('zynga_auctions',), ('zynga_auctions_orc',)]\n"
     ]
    }
   ],
   "source": [
    "print(cursor.fetchall())"
   ]
  },
  {
   "cell_type": "code",
   "execution_count": 6,
   "metadata": {},
   "outputs": [],
   "source": [
    "def build_auction_table():\n",
    "    cursor.execute(\"\"\"\n",
    "CREATE TABLE IF NOT EXISTS zynga_auctions(\n",
    "ad_position VARCHAR(255)\n",
    ", app_bundle VARCHAR(255)\n",
    ", app_id VARCHAR(255)\n",
    ", app_name VARCHAR(255)\n",
    ", auction_id VARCHAR(255)\n",
    ", bid_time TIMESTAMP\n",
    ", category VARCHAR(255)\n",
    ", content_coppa_flag BOOLEAN\n",
    ", content_language VARCHAR(255)\n",
    ", content_rating VARCHAR(255)\n",
    ", domain VARCHAR(255)\n",
    ", environment_type VARCHAR(255)\n",
    ", geo_city VARCHAR(255)\n",
    ", geo_country VARCHAR(255)\n",
    ", geo_metro VARCHAR(255)\n",
    ", geo_region VARCHAR(255)\n",
    ", geo_zip VARCHAR(255)\n",
    ", inventory_interstitial BOOLEAN\n",
    ", inventory_source VARCHAR(255)\n",
    ", inventory_source_relationship VARCHAR(255)\n",
    ", ip_address VARCHAR(255)\n",
    ", ip_range VARCHAR(255)\n",
    ", placement VARCHAR(255)\n",
    ", platform_bandwidth VARCHAR(255)\n",
    ", platform_browser VARCHAR(255)\n",
    ", platform_browser_version VARCHAR(255)\n",
    ", platform_carrier VARCHAR(255)\n",
    ", platform_device_didmd5 VARCHAR(255)\n",
    ", platform_device_didsha1 VARCHAR(255)\n",
    ", platform_device_dpidmd5 VARCHAR(255)\n",
    ", platform_device_dpidsha1 VARCHAR(255)\n",
    ", platform_device_idfa VARCHAR(255)\n",
    ", platform_device_ifa VARCHAR(255)\n",
    ", platform_device_make VARCHAR(255)\n",
    ", platform_device_model VARCHAR(255)\n",
    ", platform_device_screen_size VARCHAR(255)\n",
    ", platform_device_type VARCHAR(255)\n",
    ", platform_js BOOLEAN\n",
    ", platform_os VARCHAR(255)\n",
    ", platform_os_version VARCHAR(255)\n",
    ", segment_id VARCHAR(600)\n",
    ", segment_user_id INT\n",
    ", site_id VARCHAR(255)\n",
    ", site_name VARCHAR(255)\n",
    ", time_of_week INT\n",
    ", user_id VARCHAR(255)\n",
    ", video_boxing_allowed BOOLEAN\n",
    ", video_companion_required BOOLEAN\n",
    ", video_playback_method VARCHAR(255)\n",
    ", video_player_size VARCHAR(255)\n",
    ", video_start_delay INT\n",
    ", test BOOLEAN\n",
    ", placement_type VARCHAR(255)\n",
    ", geo_lat VARCHAR(50)\n",
    ", geo_long VARCHAR(50)\n",
    ", video_min_duration INT\n",
    ", video_max_duration INT\n",
    ", video_player_width INT\n",
    ", video_player_height INT\n",
    ", banner_width INT\n",
    ", banner_height INT\n",
    ", banner_width_max INT\n",
    ", banner_height_max INT\n",
    ", banner_width_min INT\n",
    ", banner_height_min INT\n",
    ", dnt INT\n",
    ", geo_type VARCHAR(20)\n",
    ", bid_time_epoch_in_usecs INT\n",
    ", page_url VARCHAR(255)\n",
    ", exchange_predicted_view_rate INT\n",
    ", available_deal_ids VARCHAR(255)\n",
    ", battrs VARCHAR(255)\n",
    ", exchange_auction_id VARCHAR(255)\n",
    ", rewarded INT\n",
    ", ua VARCHAR(255)\n",
    ", bid_floor_micros INT\n",
    ", bid_floor_currency VARCHAR(10)\n",
    ", display_manager VARCHAR(255)\n",
    ", display_manager_ver VARCHAR(255)\n",
    ", exchange_device_make VARCHAR(255)\n",
    ", exchange_device_model VARCHAR(255)\n",
    ", user_id_type VARCHAR(20)\n",
    ", auction_type INT\n",
    ", publisher_id VARCHAR(255)\n",
    ", ads_txt VARCHAR(20)\n",
    ", matched_user_groups VARCHAR(255)\n",
    ", ipv6_address VARCHAR(255)\n",
    ", user_id_hashed VARCHAR(255)\n",
    ", ip_address_hashed VARCHAR(255)\n",
    ", ipv6_address_hashed VARCHAR(255)\n",
    ", is_gdpr INT\n",
    ", gdpr_consent_string VARCHAR(255)\n",
    ")\n",
    "ROW FORMAT DELIMITED FIELDS TERMINATED BY ','\n",
    "LOCATION 's3://zynga-beeswax/hive/csv/'\"\"\")"
   ]
  },
  {
   "cell_type": "code",
   "execution_count": 7,
   "metadata": {},
   "outputs": [],
   "source": [
    "def load_auction_data_hour(hour):\n",
    "    cursor.execute(\"\"\"LOAD DATA INPATH  's3://fb-beeswax-east/beeswax-logs/auctions/year=2019/month=04/day=04/hour={}/min=*/*/BidRequest/*.gz' INTO TABLE zynga_auctions \"\"\".format(hour))"
   ]
  },
  {
   "cell_type": "code",
   "execution_count": 8,
   "metadata": {},
   "outputs": [],
   "source": [
    "#cursor.execute( \"\"\"\n",
    "#CREATE EXTERNAL TABLE zynga_auctions_orc(\n",
    "#app_bundle VARCHAR(255)\n",
    "#, user_id VARCHAR(255)\n",
    "#, app_name VARCHAR(255)\n",
    "#, auction_id VARCHAR(255)\n",
    "#, bid_time TIMESTAMP\n",
    "#) STORED AS orc\n",
    "#LOCATION 's3://zynga-beeswax/hive/orc/'\"\"\")"
   ]
  },
  {
   "cell_type": "code",
   "execution_count": 9,
   "metadata": {},
   "outputs": [],
   "source": [
    "def load_slim_auction_data_orc():\n",
    "    cursor.execute(\"\"\"INSERT INTO TABLE zynga_auctions_orc SELECT app_bundle, user_id, app_name, auction_id, bid_time FROM zynga_auctions \"\"\")"
   ]
  },
  {
   "cell_type": "code",
   "execution_count": 10,
   "metadata": {},
   "outputs": [],
   "source": [
    "def drop_auction_hive_table():\n",
    "    cursor.execute(\"DROP TABLE zynga_auctions\")"
   ]
  },
  {
   "cell_type": "code",
   "execution_count": 11,
   "metadata": {},
   "outputs": [],
   "source": [
    "hours = ['00', '01', '02', '03', '04', '05', '06', '07', '08', '09', '10', '11', '12', '13', '14', '15', '16', '17', '18', '19', '20', '21', '22', '23']"
   ]
  },
  {
   "cell_type": "code",
   "execution_count": null,
   "metadata": {},
   "outputs": [
    {
     "name": "stdout",
     "output_type": "stream",
     "text": [
      "File for hour 00 failed to load.\n",
      "File for hour 01 failed to load.\n",
      "File for hour 02 failed to load.\n"
     ]
    }
   ],
   "source": [
    "for hour in hours:\n",
    "    drop_auction_hive_table()\n",
    "    build_auction_table()\n",
    "    try:\n",
    "        load_auction_data_hour(hour)\n",
    "    except:\n",
    "        print('File for hour {} failed to load.'.format(hour))\n",
    "        continue\n",
    "    print('CSV auction data for hour {} loaded into hive...'.format(hour))\n",
    "    load_slim_auction_data_orc()\n",
    "    print('ORC auction data for hour {} loaded into hive...'.format(hour))"
   ]
  },
  {
   "cell_type": "code",
   "execution_count": 2,
   "metadata": {},
   "outputs": [],
   "source": [
    "from pyhive import presto  # or import hive\n",
    "prestocur = presto.connect('172.31.56.255', port=8889).cursor()"
   ]
  },
  {
   "cell_type": "code",
   "execution_count": 3,
   "metadata": {},
   "outputs": [],
   "source": [
    "poker_apps = ['com.luckyday.app'\n",
    ",'com.playtika.caesarscasino'\n",
    ",'slots.machine.winning.android'\n",
    ",'com.huuuge.casino.slots'\n",
    ",'com.bingo.blaze.free'\n",
    ",'air.com.bitrhymes.bingo'\n",
    ",'com.murka.slotsera'\n",
    ",'com.tw.tycoon.casino'\n",
    ",'com.murka.scatterslots'\n",
    ",'com.leftover.CoinDozer'\n",
    ",'com.huuuge.casino.slots'\n",
    ",'com.murka.scatterslots'\n",
    ",'com.luckyday.app'\n",
    ",'com.huuuge.casino.texas'\n",
    ",'com.murka.slotsera'\n",
    ",'slots.pcg.casino.games.free.android'\n",
    ",'com.williamsinteractive.jackpotparty'\n",
    ",'com.tw.tycoon.casino'\n",
    ",'air.com.playtika.slotomania'\n",
    ",'air.com.buffalo_studios.newflashbingo'\n",
    ",'com.doubleugames.DoubleUCasino'\n",
    ",'com.murka.infinityslots'\n",
    ",'com.igs.fafafa'\n",
    ",'com.williamsinteractive.goldfish'\n",
    ",'com.scientificgames.monopolyslots'\n",
    ",'com.wisewide.lbc.vegas'\n",
    ",'com.bagelcode.slots1'\n",
    ",'com.pacificinteractive.HouseOfFun'\n",
    ",'com.ddi'\n",
    ",'games.baobab.boomboom'\n",
    ",'com.octro.teenpatti'\n",
    ",'com.playtika.caesarscasino'\n",
    ",'com.diamondlife.slots.vegas.free'\n",
    ",'com.goplayplay.css.android'\n",
    ",'com.deeptown.gaple'\n",
    ",'air.com.spicerackmedia.bingoshowdown'\n",
    ",'com.ftxgames.twdslots'\n",
    ",'com.wonderpeople.megahitpoker.global'\n",
    ",'com.ballytechnologies.f88'\n",
    ",'com.teenpatti.hd.gold'\n",
    ",'com.huuuge.stars.slots'\n",
    ",'com.playstudios.popslots'\n",
    ",'air.com.wizits.slotagram.android'\n",
    ",'com.productmadness.cashmancasino'\n",
    ",'com.pokaapoker.texas'\n",
    ",'com.leftover.CoinDozer'\n",
    ",'com.blastworks.slingoarcade'\n",
    ",'com.doubleugames.take5'\n",
    ",'com.ballytechnologies.quickhitslots'\n",
    ",'com.house.of.blackjack21.free.online.casino'\n",
    ",'com.casinojoy.videoslots'\n",
    ",'com.productmadness.hovmobile'\n",
    ",'com.selfawaregames.acecasino'\n",
    ",'com.winnersclub.empire88slots'\n",
    ",'kr.co.tk.game.bingo75.google'\n",
    ",'com.blowfire.wildclassic'\n",
    ",'com.zynga.livepoker'\n",
    ",'slots.machine.winning.android'\n",
    ",'air.com.wizits.vegas'\n",
    ",'com.dominocard.uptodown'\n",
    ",'net.flysher.rockncash'\n",
    ",'com.link.newslots'\n",
    ",'net.spintowinslots.androidresub'\n",
    ",'ppl.unity.cubeslots'\n",
    ",'com.DgnGames.OldVegasSlots'\n",
    ",'com.grandegames.slots.dafu.casino'\n",
    ",'com.igs.goldentigerslots'\n",
    ",'com.rubyseven.rsvideopoker'\n",
    ",'com.rubyseven.luckynorthcasino'\n",
    ",'air.com.wheelslot.jackpotspin'\n",
    ",'com.playstudios.mykonami'\n",
    ",'com.rubyseven.bestbetcasino'\n",
    ",'com.slots.classicvegas'\n",
    ",'com.playstudios.myvegas'\n",
    ",'com.pipastudios.bingobloon'\n",
    ",'com.neptune.domino'\n",
    ",'air.com.glidingdeer.bingodrivemobile'\n",
    ",'com.uken.bingo_infinity'\n",
    ",'com.madovergames.SlotsBlueDiamond'\n",
    ",'com.joj.idtexas'\n",
    ",'air.com.everi.hrv'\n",
    ",'com.luckmob.freeslots'\n",
    ",'com.purplekiwii.vegaslive'\n",
    ",'com.slots.casinojoy2'\n",
    ",'com.gamesofa.android.luxytexasholdem'\n",
    ",'air.dd.casino.slotc1'\n",
    ",'com.memoriki.fullhousecasino'\n",
    ",'com.slots.allvegas'\n",
    ",'com.slots.classicvegas2'\n",
    ",'com.gamepoint.bingo'\n",
    ",'com.classicslots.luckycity'\n",
    ",'com.rubyseven.tropworldvideopoker'\n",
    ",'com.doubledowninteractive.ftknox'\n",
    ",'air.com.everi.sjs'\n",
    ",'air.com.gameaccount.empireCity.slots'\n",
    ",'air.com.gan.turningstone.slots'\n",
    ",'com.AsgardCasino'\n",
    ",'com.jx.cc'\n",
    ",'com.slotsclub.sevenslots']"
   ]
  },
  {
   "cell_type": "code",
   "execution_count": 4,
   "metadata": {},
   "outputs": [
    {
     "name": "stdout",
     "output_type": "stream",
     "text": [
      "'com.luckyday.app' , 'com.playtika.caesarscasino' , 'slots.machine.winning.android' , 'com.huuuge.casino.slots' , 'com.bingo.blaze.free' , 'air.com.bitrhymes.bingo' , 'com.murka.slotsera' , 'com.tw.tycoon.casino' , 'com.murka.scatterslots' , 'com.leftover.CoinDozer' , 'com.huuuge.casino.slots' , 'com.murka.scatterslots' , 'com.luckyday.app' , 'com.huuuge.casino.texas' , 'com.murka.slotsera' , 'slots.pcg.casino.games.free.android' , 'com.williamsinteractive.jackpotparty' , 'com.tw.tycoon.casino' , 'air.com.playtika.slotomania' , 'air.com.buffalo_studios.newflashbingo' , 'com.doubleugames.DoubleUCasino' , 'com.murka.infinityslots' , 'com.igs.fafafa' , 'com.williamsinteractive.goldfish' , 'com.scientificgames.monopolyslots' , 'com.wisewide.lbc.vegas' , 'com.bagelcode.slots1' , 'com.pacificinteractive.HouseOfFun' , 'com.ddi' , 'games.baobab.boomboom' , 'com.octro.teenpatti' , 'com.playtika.caesarscasino' , 'com.diamondlife.slots.vegas.free' , 'com.goplayplay.css.android' , 'com.deeptown.gaple' , 'air.com.spicerackmedia.bingoshowdown' , 'com.ftxgames.twdslots' , 'com.wonderpeople.megahitpoker.global' , 'com.ballytechnologies.f88' , 'com.teenpatti.hd.gold' , 'com.huuuge.stars.slots' , 'com.playstudios.popslots' , 'air.com.wizits.slotagram.android' , 'com.productmadness.cashmancasino' , 'com.pokaapoker.texas' , 'com.leftover.CoinDozer' , 'com.blastworks.slingoarcade' , 'com.doubleugames.take5' , 'com.ballytechnologies.quickhitslots' , 'com.house.of.blackjack21.free.online.casino' , 'com.casinojoy.videoslots' , 'com.productmadness.hovmobile' , 'com.selfawaregames.acecasino' , 'com.winnersclub.empire88slots' , 'kr.co.tk.game.bingo75.google' , 'com.blowfire.wildclassic' , 'com.zynga.livepoker' , 'slots.machine.winning.android' , 'air.com.wizits.vegas' , 'com.dominocard.uptodown' , 'net.flysher.rockncash' , 'com.link.newslots' , 'net.spintowinslots.androidresub' , 'ppl.unity.cubeslots' , 'com.DgnGames.OldVegasSlots' , 'com.grandegames.slots.dafu.casino' , 'com.igs.goldentigerslots' , 'com.rubyseven.rsvideopoker' , 'com.rubyseven.luckynorthcasino' , 'air.com.wheelslot.jackpotspin' , 'com.playstudios.mykonami' , 'com.rubyseven.bestbetcasino' , 'com.slots.classicvegas' , 'com.playstudios.myvegas' , 'com.pipastudios.bingobloon' , 'com.neptune.domino' , 'air.com.glidingdeer.bingodrivemobile' , 'com.uken.bingo_infinity' , 'com.madovergames.SlotsBlueDiamond' , 'com.joj.idtexas' , 'air.com.everi.hrv' , 'com.luckmob.freeslots' , 'com.purplekiwii.vegaslive' , 'com.slots.casinojoy2' , 'com.gamesofa.android.luxytexasholdem' , 'air.dd.casino.slotc1' , 'com.memoriki.fullhousecasino' , 'com.slots.allvegas' , 'com.slots.classicvegas2' , 'com.gamepoint.bingo' , 'com.classicslots.luckycity' , 'com.rubyseven.tropworldvideopoker' , 'com.doubledowninteractive.ftknox' , 'air.com.everi.sjs' , 'air.com.gameaccount.empireCity.slots' , 'air.com.gan.turningstone.slots' , 'com.AsgardCasino' , 'com.jx.cc' , 'com.slotsclub.sevenslots'\n"
     ]
    }
   ],
   "source": [
    "p_apps = \"\\'\" + \"\\' , \\'\".join(poker_apps) + \"\\'\"\n",
    "print(p_apps)"
   ]
  },
  {
   "cell_type": "code",
   "execution_count": 11,
   "metadata": {},
   "outputs": [],
   "source": [
    "cursor.execute( \"\"\"\n",
    "CREATE EXTERNAL TABLE zynga_audience_output(\n",
    " user_id VARCHAR(255)\n",
    ") \n",
    "ROW FORMAT DELIMITED FIELDS TERMINATED BY ','\n",
    "LOCATION 's3://zynga-beeswax/hive/audience-output/'\"\"\")"
   ]
  },
  {
   "cell_type": "code",
   "execution_count": 32,
   "metadata": {},
   "outputs": [],
   "source": [
    "#prestocur.execute(\"\"\"select user_id, app_bundle, app_name from zynga_auctions_orc where app_bundle in ({}) group by user_id, app_bundle, app_name limit 5 \"\"\".format(p_apps))"
   ]
  },
  {
   "cell_type": "code",
   "execution_count": 12,
   "metadata": {},
   "outputs": [],
   "source": [
    "prestocur.execute(\"\"\"\n",
    "insert into zynga_audience_output \n",
    "select distinct user_id from zynga_auctions_orc \n",
    "where app_bundle in ({}) \"\"\".format(p_apps))"
   ]
  },
  {
   "cell_type": "code",
   "execution_count": 13,
   "metadata": {},
   "outputs": [
    {
     "data": {
      "text/plain": [
       "(393473,)"
      ]
     },
     "execution_count": 13,
     "metadata": {},
     "output_type": "execute_result"
    }
   ],
   "source": [
    "prestocur.fetchone()"
   ]
  },
  {
   "cell_type": "code",
   "execution_count": 36,
   "metadata": {},
   "outputs": [],
   "source": [
    "prestocur.execute(\"select * from zynga_auctions limit 5\")"
   ]
  },
  {
   "cell_type": "code",
   "execution_count": null,
   "metadata": {},
   "outputs": [],
   "source": []
  }
 ],
 "metadata": {
  "kernelspec": {
   "display_name": "conda_python3",
   "language": "python",
   "name": "conda_python3"
  },
  "language_info": {
   "codemirror_mode": {
    "name": "ipython",
    "version": 3
   },
   "file_extension": ".py",
   "mimetype": "text/x-python",
   "name": "python",
   "nbconvert_exporter": "python",
   "pygments_lexer": "ipython3",
   "version": "3.6.5"
  }
 },
 "nbformat": 4,
 "nbformat_minor": 2
}
