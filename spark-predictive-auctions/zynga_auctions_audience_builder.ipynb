{
 "cells": [
  {
   "cell_type": "code",
   "execution_count": 9,
   "metadata": {},
   "outputs": [
    {
     "name": "stdout",
     "output_type": "stream",
     "text": [
      "Starting Spark application\n"
     ]
    },
    {
     "data": {
      "text/html": [
       "<table>\n",
       "<tr><th>ID</th><th>YARN Application ID</th><th>Kind</th><th>State</th><th>Spark UI</th><th>Driver log</th><th>Current session?</th></tr><tr><td>1</td><td>application_1554598224737_0002</td><td>pyspark</td><td>idle</td><td><a target=\"_blank\" href=\"http://ip-172-31-62-35.ec2.internal:20888/proxy/application_1554598224737_0002/\">Link</a></td><td><a target=\"_blank\" href=\"http://ip-172-31-63-166.ec2.internal:8042/node/containerlogs/container_1554598224737_0002_01_000001/livy\">Link</a></td><td>✔</td></tr></table>"
      ],
      "text/plain": [
       "<IPython.core.display.HTML object>"
      ]
     },
     "metadata": {},
     "output_type": "display_data"
    },
    {
     "name": "stdout",
     "output_type": "stream",
     "text": [
      "SparkSession available as 'spark'.\n",
      "<pyspark.sql.session.SparkSession object at 0x7f6b6ebcdb90>"
     ]
    }
   ],
   "source": [
    "import pyspark.sql.functions as f\n",
    "spark\n"
   ]
  },
  {
   "cell_type": "code",
   "execution_count": 10,
   "metadata": {},
   "outputs": [],
   "source": [
    "buzzkey = 'zynga'"
   ]
  },
  {
   "cell_type": "code",
   "execution_count": 11,
   "metadata": {},
   "outputs": [],
   "source": [
    "input_bucket = '{}-beeswax-east'.format(buzzkey)\n",
    "padded_year = '2019'\n",
    "padded_month = '04'\n",
    "padded_day = '05'\n",
    "\n",
    "raw_files = \"s3a://{}/beeswax-logs/auctions/year={}/month={}/day={}/hour=1*/min=*/*/BidRequest/*.gz\".format(input_bucket, padded_year, padded_month, padded_day)\n",
    "\n"
   ]
  },
  {
   "cell_type": "code",
   "execution_count": 12,
   "metadata": {},
   "outputs": [],
   "source": [
    "df = spark.read.format(\"com.databricks.spark.csv\") \\\n",
    "                .option(\"inferSchema\", \"false\") \\\n",
    "                .option(\"codec\", \"gzip\") \\\n",
    "                .option(\"mode\",\"DROPMALFORMED\") \\\n",
    "                .option(\"header\",True) \\\n",
    "                .option(\"nullValue\",\"null\") \\\n",
    "                .option(\"delimiter\",\",\") \\\n",
    "                .load(raw_files)"
   ]
  },
  {
   "cell_type": "code",
   "execution_count": 13,
   "metadata": {},
   "outputs": [],
   "source": [
    "auctions_slim = df.groupby('platform_device_dpidmd5', 'app_bundle', 'app_name').agg({'auction_id': 'count'})"
   ]
  },
  {
   "cell_type": "code",
   "execution_count": 14,
   "metadata": {},
   "outputs": [
    {
     "name": "stdout",
     "output_type": "stream",
     "text": [
      "+-----------------------+--------------------+--------------------+-----------------+\n",
      "|platform_device_dpidmd5|          app_bundle|            app_name|count(auction_id)|\n",
      "+-----------------------+--------------------+--------------------+-----------------+\n",
      "|   01f086a41ccb90fb6...|           999167262|  Mitos.is: The Game|              530|\n",
      "|   11eae592ace2a45a2...|com.n3twork.legen...|Legendary : Game ...|                2|\n",
      "|   0faba44041995d129...|com.enflick.andro...|             TextNow|               92|\n",
      "|   6a624dd3fefcb42db...|           295646461|Weather Channel -...|               16|\n",
      "|   c9f315735b2e922d3...|           448999087|            theCHIVE|               65|\n",
      "|   c0f304f0a03081863...|           295646461|The Weather Chann...|                6|\n",
      "|   2b7e07658c9ded1d3...|           314716233|   TextNowSwift-Free|               26|\n",
      "|   32220c573489c464b...|          1423046460|          Paper.io 2|               12|\n",
      "|   27843e6f8a7f481e0...|           399355755|Text Free: Textin...|                5|\n",
      "|   dbd511553ca5dca98...|           295646461|Weather Channel -...|               27|\n",
      "+-----------------------+--------------------+--------------------+-----------------+\n",
      "only showing top 10 rows"
     ]
    }
   ],
   "source": [
    "auctions_slim.show(10)\n"
   ]
  },
  {
   "cell_type": "code",
   "execution_count": 15,
   "metadata": {},
   "outputs": [
    {
     "name": "stdout",
     "output_type": "stream",
     "text": [
      "218068974"
     ]
    }
   ],
   "source": [
    "df.count()"
   ]
  },
  {
   "cell_type": "code",
   "execution_count": 16,
   "metadata": {},
   "outputs": [],
   "source": [
    "poker_apps = ['com.luckyday.app'\n",
    ",'com.playtika.caesarscasino'\n",
    ",'slots.machine.winning.android'\n",
    ",'com.huuuge.casino.slots'\n",
    ",'com.bingo.blaze.free'\n",
    ",'air.com.bitrhymes.bingo'\n",
    ",'com.murka.slotsera'\n",
    ",'com.tw.tycoon.casino'\n",
    ",'com.murka.scatterslots'\n",
    ",'com.leftover.CoinDozer'\n",
    ",'com.huuuge.casino.slots'\n",
    ",'com.murka.scatterslots'\n",
    ",'com.luckyday.app'\n",
    ",'com.huuuge.casino.texas'\n",
    ",'com.murka.slotsera'\n",
    ",'slots.pcg.casino.games.free.android'\n",
    ",'com.williamsinteractive.jackpotparty'\n",
    ",'com.tw.tycoon.casino'\n",
    ",'air.com.playtika.slotomania'\n",
    ",'air.com.buffalo_studios.newflashbingo'\n",
    ",'com.doubleugames.DoubleUCasino'\n",
    ",'com.murka.infinityslots'\n",
    ",'com.igs.fafafa'\n",
    ",'com.williamsinteractive.goldfish'\n",
    ",'com.scientificgames.monopolyslots'\n",
    ",'com.wisewide.lbc.vegas'\n",
    ",'com.bagelcode.slots1'\n",
    ",'com.pacificinteractive.HouseOfFun'\n",
    ",'com.ddi'\n",
    ",'games.baobab.boomboom'\n",
    ",'com.octro.teenpatti'\n",
    ",'com.playtika.caesarscasino'\n",
    ",'com.diamondlife.slots.vegas.free'\n",
    ",'com.goplayplay.css.android'\n",
    ",'com.deeptown.gaple'\n",
    ",'air.com.spicerackmedia.bingoshowdown'\n",
    ",'com.ftxgames.twdslots'\n",
    ",'com.wonderpeople.megahitpoker.global'\n",
    ",'com.ballytechnologies.f88'\n",
    ",'com.teenpatti.hd.gold'\n",
    ",'com.huuuge.stars.slots'\n",
    ",'com.playstudios.popslots'\n",
    ",'air.com.wizits.slotagram.android'\n",
    ",'com.productmadness.cashmancasino'\n",
    ",'com.pokaapoker.texas'\n",
    ",'com.leftover.CoinDozer'\n",
    ",'com.blastworks.slingoarcade'\n",
    ",'com.doubleugames.take5'\n",
    ",'com.ballytechnologies.quickhitslots'\n",
    ",'com.house.of.blackjack21.free.online.casino'\n",
    ",'com.casinojoy.videoslots'\n",
    ",'com.productmadness.hovmobile'\n",
    ",'com.selfawaregames.acecasino'\n",
    ",'com.winnersclub.empire88slots'\n",
    ",'kr.co.tk.game.bingo75.google'\n",
    ",'com.blowfire.wildclassic'\n",
    ",'com.zynga.livepoker'\n",
    ",'slots.machine.winning.android'\n",
    ",'air.com.wizits.vegas'\n",
    ",'com.dominocard.uptodown'\n",
    ",'net.flysher.rockncash'\n",
    ",'com.link.newslots'\n",
    ",'net.spintowinslots.androidresub'\n",
    ",'ppl.unity.cubeslots'\n",
    ",'com.DgnGames.OldVegasSlots'\n",
    ",'com.grandegames.slots.dafu.casino'\n",
    ",'com.igs.goldentigerslots'\n",
    ",'com.rubyseven.rsvideopoker'\n",
    ",'com.rubyseven.luckynorthcasino'\n",
    ",'air.com.wheelslot.jackpotspin'\n",
    ",'com.playstudios.mykonami'\n",
    ",'com.rubyseven.bestbetcasino'\n",
    ",'com.slots.classicvegas'\n",
    ",'com.playstudios.myvegas'\n",
    ",'com.pipastudios.bingobloon'\n",
    ",'com.neptune.domino'\n",
    ",'air.com.glidingdeer.bingodrivemobile'\n",
    ",'com.uken.bingo_infinity'\n",
    ",'com.madovergames.SlotsBlueDiamond'\n",
    ",'com.joj.idtexas'\n",
    ",'air.com.everi.hrv'\n",
    ",'com.luckmob.freeslots'\n",
    ",'com.purplekiwii.vegaslive'\n",
    ",'com.slots.casinojoy2'\n",
    ",'com.gamesofa.android.luxytexasholdem'\n",
    ",'air.dd.casino.slotc1'\n",
    ",'com.memoriki.fullhousecasino'\n",
    ",'com.slots.allvegas'\n",
    ",'com.slots.classicvegas2'\n",
    ",'com.gamepoint.bingo'\n",
    ",'com.classicslots.luckycity'\n",
    ",'com.rubyseven.tropworldvideopoker'\n",
    ",'com.doubledowninteractive.ftknox'\n",
    ",'air.com.everi.sjs'\n",
    ",'air.com.gameaccount.empireCity.slots'\n",
    ",'air.com.gan.turningstone.slots'\n",
    ",'com.AsgardCasino'\n",
    ",'com.jx.cc'\n",
    ",'com.slotsclub.sevenslots']"
   ]
  },
  {
   "cell_type": "code",
   "execution_count": 17,
   "metadata": {},
   "outputs": [],
   "source": [
    "#p_apps = \"\\'\" + \"\\' , \\'\".join(poker_apps) + \"\\'\"\n",
    "#print(p_apps)"
   ]
  },
  {
   "cell_type": "code",
   "execution_count": 18,
   "metadata": {},
   "outputs": [],
   "source": [
    "poker_users = auctions_slim.where(auctions_slim.app_bundle.isin(poker_apps))"
   ]
  },
  {
   "cell_type": "code",
   "execution_count": 14,
   "metadata": {},
   "outputs": [
    {
     "name": "stdout",
     "output_type": "stream",
     "text": [
      "+-----------------------+--------------------+--------------------+-----------------+\n",
      "|platform_device_dpidmd5|          app_bundle|            app_name|count(auction_id)|\n",
      "+-----------------------+--------------------+--------------------+-----------------+\n",
      "|                   null|com.wonderpeople....|Mega Hit Poker: T...|             5851|\n",
      "|   4e80d645943c8cc91...|air.com.bitrhymes...|Bingo Bash  Slots...|               56|\n",
      "|   8694623319bb9e293...|air.com.bitrhymes...|Bingo Bash - Bing...|               35|\n",
      "|   7e155c09c6b40fc5c...|air.com.bitrhymes...|Bingo Bash - Bing...|               19|\n",
      "|   0da93e223953d9943...|com.leftover.Coin...|          Coin Dozer|                3|\n",
      "|   e5e32e578c2a1c1fd...|com.leftover.Coin...|Coin Dozer - Free...|                1|\n",
      "|   da1072cc8d0bc3d1d...|slots.machine.win...|Winning Slots - F...|                1|\n",
      "|                   null|com.rubyseven.luc...|Lucky North Casin...|               10|\n",
      "|   0f01a6de3ad338e8d...|com.leftover.Coin...|Coin Dozer - Free...|                5|\n",
      "|   517284ea4b143fb32...| com.zynga.livepoker|Zynga Poker  Texa...|                1|\n",
      "|   1415d6f0a00947b51...| com.zynga.livepoker|Zynga Poker  Texa...|                1|\n",
      "|   3f9a58050f15c9f95...|com.bagelcode.slots1|Club Vegas - FREE...|                1|\n",
      "|   0a97f37c98e918f4d...|com.tw.tycoon.casino|Tycoon Casino: Fr...|                2|\n",
      "|   eb55266adda0c5d9e...| com.zynga.livepoker|Zynga Poker  Texa...|                1|\n",
      "|   87bc0f4b6cf1cc65b...|slots.machine.win...|Winning Slots - F...|                1|\n",
      "|   818d22b7fddfe29c8...| com.zynga.livepoker|Zynga Poker  Texa...|                1|\n",
      "|   06a40de5ba3617e77...|com.selfawaregame...|Big Fish Casino  ...|               67|\n",
      "|   9cebd064852f0dd3e...|com.bagelcode.slots1|Club Vegas - FREE...|               55|\n",
      "|   dde0b8baba150727c...|air.com.bitrhymes...|Bingo Bash - Bing...|                5|\n",
      "|   b49880a6619e26565...|air.com.bitrhymes...|Bingo Bash  Slots...|               13|\n",
      "|   d8b5d1adde486003f...|air.com.bitrhymes...|Bingo Bash  Slots...|               22|\n",
      "|   6d6fcca15ac198618...|slots.machine.win...|Winning Slots - F...|                1|\n",
      "|   a9afb148f1096c7c6...| com.zynga.livepoker|Zynga Poker  Texa...|                1|\n",
      "|   cad4f68468e607c8f...|com.bagelcode.slots1|Club Vegas - FREE...|                1|\n",
      "|   4f6a193242eda16ea...| com.zynga.livepoker|Zynga Poker  Texa...|                1|\n",
      "|   4601907ecc0fa1f97...|air.com.bitrhymes...|Bingo Bash - Bing...|               16|\n",
      "|   ef86131a3b4068bca...|com.leftover.Coin...|coin dozer - free...|                1|\n",
      "|   ee164b6e0aeb348f5...|  com.murka.slotsera|Slots Era - Best ...|                1|\n",
      "|   fc564737819ca79a7...|air.com.bitrhymes...|Bingo Bash - Bing...|                1|\n",
      "|   4650ad4fc12736425...|com.tw.tycoon.casino|Tycoon Casino: Fr...|                1|\n",
      "|   717c708e28145889c...| com.zynga.livepoker|Zynga Poker  Texa...|                1|\n",
      "|   cecc6d7613c284ccc...|air.com.bitrhymes...|Bingo Bash - Bing...|               22|\n",
      "|   c39f31cc98feebc26...|com.leftover.Coin...|Coin Dozer - Free...|                4|\n",
      "|   32357b447400c4989...| com.zynga.livepoker|Zynga Poker  Texa...|                1|\n",
      "|   665806b31ff50827c...|com.bagelcode.slots1|Club Vegas - FREE...|                2|\n",
      "|   3aeebb6c99c2cfd2d...|com.tw.tycoon.casino|Tycoon Casino: Fr...|                2|\n",
      "|   9cc630e11c609d7df...| com.zynga.livepoker|Zynga Poker  Texa...|                1|\n",
      "|   e2cdd3d329bf63232...|com.selfawaregame...|Big Fish Casino  ...|                6|\n",
      "|   6ba1e15cdb1700f58...|air.com.bitrhymes...|Bingo Bash - Bing...|                4|\n",
      "|   3cccf5dd670e94b88...|air.com.bitrhymes...|Bingo Bash  Slots...|               10|\n",
      "|   66f574c33c67ee81c...| com.zynga.livepoker|Zynga Poker  Texa...|                1|\n",
      "|   2a35b361f4db6ea67...|com.huuuge.casino...| Slots Huuuge Casino|                1|\n",
      "|   1c6e872c37d157a9f...| com.zynga.livepoker|Zynga Poker  Texa...|                1|\n",
      "|   cb8a525c75c729ac4...|com.leftover.Coin...|          Coin Dozer|                2|\n",
      "|                   null|net.spintowinslot...|SpinToWin Slots -...|                3|\n",
      "|   bea6e7786ddc28e33...|com.tw.tycoon.casino|Tycoon Casino: Fr...|                1|\n",
      "|   9d3b9d19a915e2ee3...| com.zynga.livepoker|Zynga Poker  Texa...|                1|\n",
      "|   a2e5a76c61187e916...| com.zynga.livepoker|Zynga Poker  Texa...|                1|\n",
      "|   eb963a4dfcc27b189...|air.com.bitrhymes...|Bingo Bash  Slots...|              183|\n",
      "|   2d98179ba77ed7b36...|air.com.bitrhymes...|Bingo Bash - Bing...|               85|\n",
      "+-----------------------+--------------------+--------------------+-----------------+\n",
      "only showing top 50 rows"
     ]
    }
   ],
   "source": [
    "poker_users.show(50)"
   ]
  },
  {
   "cell_type": "code",
   "execution_count": 19,
   "metadata": {},
   "outputs": [],
   "source": [
    "poker_users_distinct = poker_users.groupby('platform_device_dpidmd5').sum()"
   ]
  },
  {
   "cell_type": "code",
   "execution_count": null,
   "metadata": {},
   "outputs": [],
   "source": [
    "poker_users_distinct.show(50)"
   ]
  },
  {
   "cell_type": "code",
   "execution_count": 26,
   "metadata": {},
   "outputs": [],
   "source": [
    "poker_users_final = poker_users_distinct.where(poker_users.platform_device_dpidmd5.isNotNull())"
   ]
  },
  {
   "cell_type": "code",
   "execution_count": 28,
   "metadata": {},
   "outputs": [
    {
     "name": "stdout",
     "output_type": "stream",
     "text": [
      "2670"
     ]
    }
   ],
   "source": [
    "poker_users_final.count()"
   ]
  },
  {
   "cell_type": "code",
   "execution_count": 29,
   "metadata": {},
   "outputs": [
    {
     "name": "stdout",
     "output_type": "stream",
     "text": [
      "218068974"
     ]
    }
   ],
   "source": [
    "df.count()"
   ]
  },
  {
   "cell_type": "code",
   "execution_count": 30,
   "metadata": {},
   "outputs": [],
   "source": [
    "#del df"
   ]
  },
  {
   "cell_type": "code",
   "execution_count": 31,
   "metadata": {},
   "outputs": [],
   "source": [
    "#del poker_users\n",
    "#del poker_users_distinct\n",
    "#del poker_users_final\n",
    "#del auctions_slim"
   ]
  },
  {
   "cell_type": "code",
   "execution_count": 32,
   "metadata": {},
   "outputs": [],
   "source": []
  },
  {
   "cell_type": "code",
   "execution_count": 33,
   "metadata": {},
   "outputs": [
    {
     "data": {
      "text/html": [
       "Current session configs: <tt>{'driverMemory': '1000M', 'executorCores': 2, 'kind': 'pyspark'}</tt><br>"
      ],
      "text/plain": [
       "<IPython.core.display.HTML object>"
      ]
     },
     "metadata": {},
     "output_type": "display_data"
    },
    {
     "data": {
      "text/html": [
       "No active sessions."
      ],
      "text/plain": [
       "<IPython.core.display.HTML object>"
      ]
     },
     "metadata": {},
     "output_type": "display_data"
    }
   ],
   "source": []
  },
  {
   "cell_type": "code",
   "execution_count": 7,
   "metadata": {},
   "outputs": [],
   "source": [
    "%%cleanup -f"
   ]
  },
  {
   "cell_type": "code",
   "execution_count": 8,
   "metadata": {},
   "outputs": [
    {
     "data": {
      "text/html": [
       "Current session configs: <tt>{'driverMemory': '1000M', 'executorCores': 2, 'kind': 'pyspark'}</tt><br>"
      ],
      "text/plain": [
       "<IPython.core.display.HTML object>"
      ]
     },
     "metadata": {},
     "output_type": "display_data"
    },
    {
     "data": {
      "text/html": [
       "No active sessions."
      ],
      "text/plain": [
       "<IPython.core.display.HTML object>"
      ]
     },
     "metadata": {},
     "output_type": "display_data"
    }
   ],
   "source": [
    "%%info"
   ]
  },
  {
   "cell_type": "code",
   "execution_count": null,
   "metadata": {},
   "outputs": [],
   "source": []
  }
 ],
 "metadata": {
  "kernelspec": {
   "display_name": "Sparkmagic (PySpark)",
   "language": "",
   "name": "pysparkkernel"
  },
  "language_info": {
   "codemirror_mode": {
    "name": "python",
    "version": 2
   },
   "mimetype": "text/x-python",
   "name": "pyspark",
   "pygments_lexer": "python2"
  }
 },
 "nbformat": 4,
 "nbformat_minor": 2
}
