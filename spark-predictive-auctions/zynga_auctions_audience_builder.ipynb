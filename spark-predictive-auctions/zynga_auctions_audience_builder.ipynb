{
 "cells": [
  {
   "cell_type": "code",
   "execution_count": 9,
   "metadata": {},
   "outputs": [
    {
     "name": "stdout",
     "output_type": "stream",
     "text": [
      "Starting Spark application\n"
     ]
    },
    {
     "data": {
      "text/html": [
       "<table>\n",
       "<tr><th>ID</th><th>YARN Application ID</th><th>Kind</th><th>State</th><th>Spark UI</th><th>Driver log</th><th>Current session?</th></tr><tr><td>1</td><td>application_1554598224737_0002</td><td>pyspark</td><td>idle</td><td><a target=\"_blank\" href=\"http://ip-172-31-62-35.ec2.internal:20888/proxy/application_1554598224737_0002/\">Link</a></td><td><a target=\"_blank\" href=\"http://ip-172-31-63-166.ec2.internal:8042/node/containerlogs/container_1554598224737_0002_01_000001/livy\">Link</a></td><td>✔</td></tr></table>"
      ],
      "text/plain": [
       "<IPython.core.display.HTML object>"
      ]
     },
     "metadata": {},
     "output_type": "display_data"
    },
    {
     "name": "stdout",
     "output_type": "stream",
     "text": [
      "SparkSession available as 'spark'.\n",
      "<pyspark.sql.session.SparkSession object at 0x7f6b6ebcdb90>"
     ]
    }
   ],
   "source": [
    "import pyspark.sql.functions as f\n",
    "spark\n"
   ]
  },
  {
   "cell_type": "code",
   "execution_count": 10,
   "metadata": {},
   "outputs": [],
   "source": [
    "buzzkey = 'zynga'"
   ]
  },
  {
   "cell_type": "code",
   "execution_count": 40,
   "metadata": {},
   "outputs": [],
   "source": [
    "input_bucket = '{}-beeswax-east'.format(buzzkey)\n",
    "padded_year = '2019'\n",
    "padded_month = '04'\n",
    "padded_day = '05'\n",
    "\n",
    "raw_files = \"s3a://{}/beeswax-logs/auctions/year={}/month={}/day={}/hour=2*/min=*/*/BidRequest/*.gz\".format(input_bucket, padded_year, padded_month, padded_day)\n",
    "\n"
   ]
  },
  {
   "cell_type": "code",
   "execution_count": 41,
   "metadata": {},
   "outputs": [],
   "source": [
    "df = spark.read.format(\"com.databricks.spark.csv\") \\\n",
    "                .option(\"inferSchema\", \"false\") \\\n",
    "                .option(\"codec\", \"gzip\") \\\n",
    "                .option(\"mode\",\"DROPMALFORMED\") \\\n",
    "                .option(\"header\",True) \\\n",
    "                .option(\"nullValue\",\"null\") \\\n",
    "                .option(\"delimiter\",\",\") \\\n",
    "                .load(raw_files)"
   ]
  },
  {
   "cell_type": "code",
   "execution_count": 42,
   "metadata": {},
   "outputs": [],
   "source": [
    "auctions_slim = df.groupby('platform_device_dpidmd5', 'app_bundle', 'app_name').agg({'auction_id': 'count'})"
   ]
  },
  {
   "cell_type": "code",
   "execution_count": 43,
   "metadata": {},
   "outputs": [
    {
     "name": "stdout",
     "output_type": "stream",
     "text": [
      "+-----------------------+--------------------+--------------------+-----------------+\n",
      "|platform_device_dpidmd5|          app_bundle|            app_name|count(auction_id)|\n",
      "+-----------------------+--------------------+--------------------+-----------------+\n",
      "|   ffa115508b1499eaa...|invaders.os.galax...|Falcon Squad - Pr...|               38|\n",
      "|   f000cb2fb63c9f626...|           475976577|          Perfect365|                5|\n",
      "|   73e8b7fb7806da040...|          1101691540|   Worm.is: The Game|              117|\n",
      "|   0fb59ccef89bbbf4b...|          1207472156|          Wordscapes|               58|\n",
      "|   1699e56ea934b602f...|com.pixel.art.col...|Color by Number  ...|               79|\n",
      "|   455350bada3e5669e...|           448999087|Bubble Shooter - ...|               11|\n",
      "|   911b445766e517267...|           999167262|  Mitos.is: The Game|              150|\n",
      "|   18862cce6b6c08a4a...|com.pixel.art.col...|Happy Color  Colo...|              187|\n",
      "|   292acb9c2b34642a5...|net.peakgames.mob...|         Spades Plus|               62|\n",
      "|   89575e23afe43cf94...|           999167262|  Mitos.is: The Game|               16|\n",
      "+-----------------------+--------------------+--------------------+-----------------+\n",
      "only showing top 10 rows"
     ]
    }
   ],
   "source": [
    "auctions_slim.show(10)\n"
   ]
  },
  {
   "cell_type": "code",
   "execution_count": 44,
   "metadata": {},
   "outputs": [
    {
     "name": "stdout",
     "output_type": "stream",
     "text": [
      "123610873"
     ]
    }
   ],
   "source": [
    "df.count()"
   ]
  },
  {
   "cell_type": "code",
   "execution_count": 45,
   "metadata": {},
   "outputs": [],
   "source": [
    "poker_apps = ['com.luckyday.app'\n",
    ",'com.playtika.caesarscasino'\n",
    ",'slots.machine.winning.android'\n",
    ",'com.huuuge.casino.slots'\n",
    ",'com.bingo.blaze.free'\n",
    ",'air.com.bitrhymes.bingo'\n",
    ",'com.murka.slotsera'\n",
    ",'com.tw.tycoon.casino'\n",
    ",'com.murka.scatterslots'\n",
    ",'com.leftover.CoinDozer'\n",
    ",'com.huuuge.casino.slots'\n",
    ",'com.murka.scatterslots'\n",
    ",'com.luckyday.app'\n",
    ",'com.huuuge.casino.texas'\n",
    ",'com.murka.slotsera'\n",
    ",'slots.pcg.casino.games.free.android'\n",
    ",'com.williamsinteractive.jackpotparty'\n",
    ",'com.tw.tycoon.casino'\n",
    ",'air.com.playtika.slotomania'\n",
    ",'air.com.buffalo_studios.newflashbingo'\n",
    ",'com.doubleugames.DoubleUCasino'\n",
    ",'com.murka.infinityslots'\n",
    ",'com.igs.fafafa'\n",
    ",'com.williamsinteractive.goldfish'\n",
    ",'com.scientificgames.monopolyslots'\n",
    ",'com.wisewide.lbc.vegas'\n",
    ",'com.bagelcode.slots1'\n",
    ",'com.pacificinteractive.HouseOfFun'\n",
    ",'com.ddi'\n",
    ",'games.baobab.boomboom'\n",
    ",'com.octro.teenpatti'\n",
    ",'com.playtika.caesarscasino'\n",
    ",'com.diamondlife.slots.vegas.free'\n",
    ",'com.goplayplay.css.android'\n",
    ",'com.deeptown.gaple'\n",
    ",'air.com.spicerackmedia.bingoshowdown'\n",
    ",'com.ftxgames.twdslots'\n",
    ",'com.wonderpeople.megahitpoker.global'\n",
    ",'com.ballytechnologies.f88'\n",
    ",'com.teenpatti.hd.gold'\n",
    ",'com.huuuge.stars.slots'\n",
    ",'com.playstudios.popslots'\n",
    ",'air.com.wizits.slotagram.android'\n",
    ",'com.productmadness.cashmancasino'\n",
    ",'com.pokaapoker.texas'\n",
    ",'com.leftover.CoinDozer'\n",
    ",'com.blastworks.slingoarcade'\n",
    ",'com.doubleugames.take5'\n",
    ",'com.ballytechnologies.quickhitslots'\n",
    ",'com.house.of.blackjack21.free.online.casino'\n",
    ",'com.casinojoy.videoslots'\n",
    ",'com.productmadness.hovmobile'\n",
    ",'com.selfawaregames.acecasino'\n",
    ",'com.winnersclub.empire88slots'\n",
    ",'kr.co.tk.game.bingo75.google'\n",
    ",'com.blowfire.wildclassic'\n",
    ",'com.zynga.livepoker'\n",
    ",'slots.machine.winning.android'\n",
    ",'air.com.wizits.vegas'\n",
    ",'com.dominocard.uptodown'\n",
    ",'net.flysher.rockncash'\n",
    ",'com.link.newslots'\n",
    ",'net.spintowinslots.androidresub'\n",
    ",'ppl.unity.cubeslots'\n",
    ",'com.DgnGames.OldVegasSlots'\n",
    ",'com.grandegames.slots.dafu.casino'\n",
    ",'com.igs.goldentigerslots'\n",
    ",'com.rubyseven.rsvideopoker'\n",
    ",'com.rubyseven.luckynorthcasino'\n",
    ",'air.com.wheelslot.jackpotspin'\n",
    ",'com.playstudios.mykonami'\n",
    ",'com.rubyseven.bestbetcasino'\n",
    ",'com.slots.classicvegas'\n",
    ",'com.playstudios.myvegas'\n",
    ",'com.pipastudios.bingobloon'\n",
    ",'com.neptune.domino'\n",
    ",'air.com.glidingdeer.bingodrivemobile'\n",
    ",'com.uken.bingo_infinity'\n",
    ",'com.madovergames.SlotsBlueDiamond'\n",
    ",'com.joj.idtexas'\n",
    ",'air.com.everi.hrv'\n",
    ",'com.luckmob.freeslots'\n",
    ",'com.purplekiwii.vegaslive'\n",
    ",'com.slots.casinojoy2'\n",
    ",'com.gamesofa.android.luxytexasholdem'\n",
    ",'air.dd.casino.slotc1'\n",
    ",'com.memoriki.fullhousecasino'\n",
    ",'com.slots.allvegas'\n",
    ",'com.slots.classicvegas2'\n",
    ",'com.gamepoint.bingo'\n",
    ",'com.classicslots.luckycity'\n",
    ",'com.rubyseven.tropworldvideopoker'\n",
    ",'com.doubledowninteractive.ftknox'\n",
    ",'air.com.everi.sjs'\n",
    ",'air.com.gameaccount.empireCity.slots'\n",
    ",'air.com.gan.turningstone.slots'\n",
    ",'com.AsgardCasino'\n",
    ",'com.jx.cc'\n",
    ",'com.slotsclub.sevenslots']"
   ]
  },
  {
   "cell_type": "code",
   "execution_count": 46,
   "metadata": {},
   "outputs": [],
   "source": [
    "#p_apps = \"\\'\" + \"\\' , \\'\".join(poker_apps) + \"\\'\"\n",
    "#print(p_apps)"
   ]
  },
  {
   "cell_type": "code",
   "execution_count": 47,
   "metadata": {},
   "outputs": [],
   "source": [
    "poker_users = auctions_slim.where(auctions_slim.app_bundle.isin(poker_apps))"
   ]
  },
  {
   "cell_type": "code",
   "execution_count": 48,
   "metadata": {},
   "outputs": [
    {
     "name": "stdout",
     "output_type": "stream",
     "text": [
      "+-----------------------+--------------------+--------------------+-----------------+\n",
      "|platform_device_dpidmd5|          app_bundle|            app_name|count(auction_id)|\n",
      "+-----------------------+--------------------+--------------------+-----------------+\n",
      "|                   null|com.wonderpeople....|Mega Hit Poker: T...|             3230|\n",
      "|   50211cf167f450402...|com.leftover.Coin...|Coin Dozer - Free...|                4|\n",
      "|   abc79e1ee2f94efd0...|air.com.bitrhymes...|Bingo Bash  Slots...|                8|\n",
      "|   0f01a6de3ad338e8d...|com.leftover.Coin...|Coin Dozer - Free...|                3|\n",
      "|                   null|com.rubyseven.luc...|Lucky North Casin...|                6|\n",
      "|   5b70a2f03d2b183ae...|slots.machine.win...|Winning Slots - F...|                1|\n",
      "|   a904a31185236f311...|slots.machine.win...|Winning Slots - F...|                1|\n",
      "|   90fab71e38780d996...|com.leftover.Coin...|Coin Dozer - Free...|                1|\n",
      "|   473727000e27d28ac...|com.leftover.Coin...|Coin Dozer - Free...|                1|\n",
      "|   fe9be708012b8ed9e...| com.zynga.livepoker|Zynga Poker  Texa...|                1|\n",
      "|   94504ee6bb4e90296...|com.bagelcode.slots1|Club Vegas - FREE...|               15|\n",
      "|   9abf606010e5ad5ea...|air.com.bitrhymes...|Bingo Bash - Bing...|               24|\n",
      "|   06a40de5ba3617e77...|com.selfawaregame...|Big Fish Casino  ...|               80|\n",
      "|   9cebd064852f0dd3e...|com.bagelcode.slots1|Club Vegas - FREE...|               11|\n",
      "|   12d9ba94d4982b2e7...|air.com.bitrhymes...|Bingo Bash - Bing...|                7|\n",
      "|   11cd561b79540f531...|com.bagelcode.slots1|Club Vegas - FREE...|                1|\n",
      "|   c1e25b27db7ad90ce...|com.bagelcode.slots1|Club Vegas - FREE...|                3|\n",
      "|   d46a16918a5cc9548...| com.zynga.livepoker|Zynga Poker  Texa...|                1|\n",
      "|   8df452008cd0e2e5a...|slots.machine.win...|Winning Slots - F...|                1|\n",
      "|   dd1c4ba5078ced13f...|com.bagelcode.slots1|Club Vegas - FREE...|                2|\n",
      "|   292c210bbc4a2a998...|air.com.bitrhymes...|Bingo Bash - Bing...|                7|\n",
      "|   2aac02ca3a37c70de...|air.com.bitrhymes...|Bingo Bash - Bing...|                5|\n",
      "|   24778f35c5acbd4a0...| com.zynga.livepoker|Zynga Poker  Texa...|                1|\n",
      "|   540d3de9c9e533976...|slots.machine.win...|Winning Slots - F...|                1|\n",
      "|   1ae671a6d04c57dc6...|com.leftover.Coin...|          Coin Dozer|                1|\n",
      "|   5a1ce7bc1825540cd...|com.leftover.Coin...|          Coin Dozer|                1|\n",
      "|   cb8a525c75c729ac4...|com.leftover.Coin...|          Coin Dozer|                1|\n",
      "|   e6e4bc2276d32417a...|com.leftover.Coin...|Coin Dozer - Free...|               72|\n",
      "|   2d98179ba77ed7b36...|air.com.bitrhymes...|Bingo Bash - Bing...|              154|\n",
      "|   91ca39ab6f7026d50...|com.selfawaregame...|Big Fish Casino  ...|               29|\n",
      "|   d52374bed62adaaa5...|com.leftover.Coin...|          Coin Dozer|                3|\n",
      "|   950d67bc886bacc3c...|com.leftover.Coin...|Coin Dozer - Free...|                2|\n",
      "|   977deb111931fb03f...|com.tw.tycoon.casino|Tycoon Casino: Fr...|                2|\n",
      "|   8d667413aa3a3a2d9...|slots.machine.win...|Winning Slots - F...|                1|\n",
      "|   823d9979dacbb9e73...|slots.machine.win...|Winning Slots - F...|                1|\n",
      "|   fe48e9674fe008f9b...|air.com.bitrhymes...|Bingo Bash  Slots...|              148|\n",
      "|   3d6aaacb681afbdfe...|air.com.bitrhymes...|Bingo Bash  Slots...|               34|\n",
      "|   614e201ffe35d1158...|com.leftover.Coin...|Coin Dozer - Free...|              102|\n",
      "|   9cfc07abdae879c7f...|com.blastworks.sl...|Slingo Arcade: Bi...|               14|\n",
      "|   65ddaa9835460c60a...|com.leftover.Coin...|Coin Dozer - Free...|               47|\n",
      "|   d4642cbfe73411e30...|air.com.bitrhymes...|Bingo Bash - Bing...|               15|\n",
      "|   c1cd67d0799b5fc6e...|com.leftover.Coin...|Coin Dozer - Free...|                1|\n",
      "|   1765685a58b20e8c3...| com.zynga.livepoker|Zynga Poker  Texa...|                1|\n",
      "|   30960ac751b0dab73...|air.com.bitrhymes...|Bingo Bash  Slots...|                1|\n",
      "|   4197676cf41c58c38...|air.com.bitrhymes...|Bingo Bash  Slots...|               61|\n",
      "|   7301c35c7134b4b26...|air.com.bitrhymes...|Bingo Bash  Slots...|               62|\n",
      "|   71a76bdc17ce04e7c...|com.leftover.Coin...|Coin Dozer - Free...|               54|\n",
      "|   30cb0eeace3b425a0...|com.leftover.Coin...|Coin Dozer - Free...|                5|\n",
      "|   6495414b02bf90618...|air.com.bitrhymes...|Bingo Bash - Bing...|                6|\n",
      "|   ff3fdbc04132ceef6...| com.zynga.livepoker|Zynga Poker  Texa...|                1|\n",
      "+-----------------------+--------------------+--------------------+-----------------+\n",
      "only showing top 50 rows"
     ]
    }
   ],
   "source": [
    "poker_users.show(50)"
   ]
  },
  {
   "cell_type": "code",
   "execution_count": 49,
   "metadata": {},
   "outputs": [],
   "source": [
    "poker_users_distinct = poker_users.groupby('platform_device_dpidmd5').sum()"
   ]
  },
  {
   "cell_type": "code",
   "execution_count": 50,
   "metadata": {},
   "outputs": [
    {
     "name": "stdout",
     "output_type": "stream",
     "text": [
      "+-----------------------+----------------------+\n",
      "|platform_device_dpidmd5|sum(count(auction_id))|\n",
      "+-----------------------+----------------------+\n",
      "|   0a2ee688cefed408b...|                     1|\n",
      "|   3eca3419c58e754d7...|                     1|\n",
      "|   4477aa77918b6fcf9...|                   120|\n",
      "|   17adc9516485b3faf...|                     4|\n",
      "|   dc04f05c12457eb61...|                     1|\n",
      "|   8a9f3215663ba6931...|                     1|\n",
      "|   7ff5c64248147af3a...|                     1|\n",
      "|   7ec79bd80f2b387ac...|                     1|\n",
      "|   0873261e13e1846b3...|                     1|\n",
      "|   53863431aef69ff13...|                     5|\n",
      "|   17b938d37008dad61...|                     2|\n",
      "|   38820194bb5dc7750...|                     4|\n",
      "|   2bf955fe0acaf7e66...|                     1|\n",
      "|   36b9d8cfe6409967a...|                     6|\n",
      "|   c35fdde53312d8136...|                     1|\n",
      "|   b56e3d4aab06ba3b0...|                     1|\n",
      "|   b530ca39e57126fca...|                    20|\n",
      "|   45e55a503b606446e...|                   163|\n",
      "|   1574c4a118e0faab0...|                    81|\n",
      "|   4e3bbbbaaea6d429b...|                     1|\n",
      "|   0e1e1bb488e80fe20...|                     1|\n",
      "|   baac27c2c4db57b4a...|                     1|\n",
      "|   030bc5fb213dd30f1...|                     2|\n",
      "|   42083f17e1fbe3bc6...|                     8|\n",
      "|   c3926aa2576456efb...|                     4|\n",
      "|   bdde858912abeff34...|                     1|\n",
      "|   1bdaa5fd250d76925...|                     1|\n",
      "|   39144db23a030c592...|                    52|\n",
      "|   506727a95ee382864...|                    11|\n",
      "|   d44a828d71884deaf...|                     1|\n",
      "|   40c76339816aac6cc...|                     1|\n",
      "|   3e24d0ba2e92942bb...|                     1|\n",
      "|   614e201ffe35d1158...|                   102|\n",
      "|   f0f28951682296aad...|                     1|\n",
      "|   9794e6e8faadf654a...|                    97|\n",
      "|   42fe40056811ed9eb...|                     1|\n",
      "|   3acb5dfc56fe57cc7...|                     2|\n",
      "|   f2bbda162446e691b...|                     2|\n",
      "|   4b6b74182de03365f...|                     1|\n",
      "|   6cbff1958b8db878b...|                     1|\n",
      "|   fe16427ae9e722660...|                    13|\n",
      "|   b15f4a2f679b97c11...|                     7|\n",
      "|   4bca255afa6f857c8...|                    60|\n",
      "|   fb4ca8bb41e7f23bd...|                    39|\n",
      "|   039e11ae5b29968c6...|                     9|\n",
      "|   04879632bf04da802...|                   141|\n",
      "|   73ff6e3ab45eef6fc...|                     1|\n",
      "|   e7f3e1a786e4a7645...|                     1|\n",
      "|   a5f3a74fa8900d202...|                     1|\n",
      "|   5345f8b336aecbac9...|                     1|\n",
      "+-----------------------+----------------------+\n",
      "only showing top 50 rows"
     ]
    }
   ],
   "source": [
    "poker_users_distinct.show(50)"
   ]
  },
  {
   "cell_type": "code",
   "execution_count": 51,
   "metadata": {},
   "outputs": [],
   "source": [
    "poker_users_final_3 = poker_users_distinct.where(poker_users.platform_device_dpidmd5.isNotNull())"
   ]
  },
  {
   "cell_type": "code",
   "execution_count": 52,
   "metadata": {},
   "outputs": [
    {
     "name": "stdout",
     "output_type": "stream",
     "text": [
      "1709"
     ]
    }
   ],
   "source": [
    "poker_users_final_3.count()"
   ]
  },
  {
   "cell_type": "code",
   "execution_count": 53,
   "metadata": {},
   "outputs": [],
   "source": [
    "del df"
   ]
  },
  {
   "cell_type": "code",
   "execution_count": 54,
   "metadata": {},
   "outputs": [],
   "source": [
    "del poker_users\n",
    "del poker_users_distinct\n",
    "del auctions_slim"
   ]
  },
  {
   "cell_type": "code",
   "execution_count": 55,
   "metadata": {},
   "outputs": [],
   "source": [
    "poker_users_final1 = poker_users_final.union(poker_users_final_2)\n",
    "pokerUsersFinal = poker_users_final1.union(poker_users_final_3)"
   ]
  },
  {
   "cell_type": "code",
   "execution_count": 56,
   "metadata": {},
   "outputs": [
    {
     "name": "stdout",
     "output_type": "stream",
     "text": [
      "7550"
     ]
    }
   ],
   "source": [
    "pokerUsersFinal.count()"
   ]
  },
  {
   "cell_type": "code",
   "execution_count": 58,
   "metadata": {},
   "outputs": [],
   "source": [
    "pokerUsersFinal.coalesce(1).write.save(\"s3://zynga-beeswax/audience/poker/predictive_audience1.csv\", format='csv', header=True)"
   ]
  },
  {
   "cell_type": "code",
   "execution_count": 7,
   "metadata": {},
   "outputs": [],
   "source": [
    "%%cleanup -f"
   ]
  },
  {
   "cell_type": "code",
   "execution_count": 8,
   "metadata": {},
   "outputs": [
    {
     "data": {
      "text/html": [
       "Current session configs: <tt>{'driverMemory': '1000M', 'executorCores': 2, 'kind': 'pyspark'}</tt><br>"
      ],
      "text/plain": [
       "<IPython.core.display.HTML object>"
      ]
     },
     "metadata": {},
     "output_type": "display_data"
    },
    {
     "data": {
      "text/html": [
       "No active sessions."
      ],
      "text/plain": [
       "<IPython.core.display.HTML object>"
      ]
     },
     "metadata": {},
     "output_type": "display_data"
    }
   ],
   "source": [
    "%%info"
   ]
  },
  {
   "cell_type": "code",
   "execution_count": 64,
   "metadata": {},
   "outputs": [],
   "source": [
    "def hourly_predictive_audience(buzzkey, region, hour, app_list):\n",
    "    input_bucket = '{}-beeswax-{}'.format(buzzkey, region)\n",
    "    padded_year = '2019'\n",
    "    padded_month = '04'\n",
    "    padded_day = '05'\n",
    "    padded_hour = hour\n",
    "    \n",
    "    buzzkey = buzzkey\n",
    "    \n",
    "    raw_files = \"s3a://{}/beeswax-logs/auctions/year={}/month={}/day={}/hour={}/min=*/*/BidRequest/*.gz\".format(input_bucket, padded_year, padded_month, padded_day, padded_hour)\n",
    "    \n",
    "    df = spark.read.format(\"com.databricks.spark.csv\") \\\n",
    "                .option(\"inferSchema\", \"false\") \\\n",
    "                .option(\"codec\", \"gzip\") \\\n",
    "                .option(\"mode\",\"DROPMALFORMED\") \\\n",
    "                .option(\"header\",True) \\\n",
    "                .option(\"nullValue\",\"null\") \\\n",
    "                .option(\"delimiter\",\",\") \\\n",
    "                .load(raw_files)\n",
    "    print('dataframe loaded successfully...')\n",
    "    auctions_slim = df.groupby('platform_device_dpidmd5', 'app_bundle', 'app_name').agg({'auction_id': 'count'})\n",
    "    audience_users = auctions_slim.where(auctions_slim.app_bundle.isin(app_list))\n",
    "    audience_users_distinct = audience_users.groupby('platform_device_dpidmd5').sum()\n",
    "    audience_users_final = audience_users_distinct.where(audience_users.platform_device_dpidmd5.isNotNull())\n",
    "    del df\n",
    "    del audience_users\n",
    "    del audience_users_distinct\n",
    "    del audience_slim\n",
    "    return audience_users_final\n"
   ]
  },
  {
   "cell_type": "code",
   "execution_count": 70,
   "metadata": {},
   "outputs": [
    {
     "name": "stdout",
     "output_type": "stream",
     "text": [
      "Starting Spark application\n"
     ]
    },
    {
     "data": {
      "text/html": [
       "<table>\n",
       "<tr><th>ID</th><th>YARN Application ID</th><th>Kind</th><th>State</th><th>Spark UI</th><th>Driver log</th><th>Current session?</th></tr><tr><td>2</td><td>application_1554598224737_0003</td><td>pyspark</td><td>idle</td><td><a target=\"_blank\" href=\"http://ip-172-31-62-35.ec2.internal:20888/proxy/application_1554598224737_0003/\">Link</a></td><td><a target=\"_blank\" href=\"http://ip-172-31-63-167.ec2.internal:8042/node/containerlogs/container_1554598224737_0003_01_000001/livy\">Link</a></td><td>✔</td></tr></table>"
      ],
      "text/plain": [
       "<IPython.core.display.HTML object>"
      ]
     },
     "metadata": {},
     "output_type": "display_data"
    },
    {
     "name": "stdout",
     "output_type": "stream",
     "text": [
      "SparkSession available as 'spark'.\n"
     ]
    }
   ],
   "source": [
    "a = ['00', '01', '02', '03', '04', '05', '06', '07', '08', '09', '10', '11', '12', '13', '14', '15', '16', '17', '18', '19', '20', '21', '22', '23']"
   ]
  },
  {
   "cell_type": "code",
   "execution_count": 67,
   "metadata": {},
   "outputs": [
    {
     "ename": "KeyboardInterrupt",
     "evalue": "",
     "output_type": "error",
     "traceback": [
      "\u001b[0;31m---------------------------------------------------------------------------\u001b[0m",
      "\u001b[0;31mKeyboardInterrupt\u001b[0m                         Traceback (most recent call last)",
      "\u001b[0;32m<ipython-input-67-c3c6781c8376>\u001b[0m in \u001b[0;36m<module>\u001b[0;34m\u001b[0m\n\u001b[0;32m----> 1\u001b[0;31m \u001b[0mget_ipython\u001b[0m\u001b[0;34m(\u001b[0m\u001b[0;34m)\u001b[0m\u001b[0;34m.\u001b[0m\u001b[0mrun_cell_magic\u001b[0m\u001b[0;34m(\u001b[0m\u001b[0;34m'spark'\u001b[0m\u001b[0;34m,\u001b[0m \u001b[0;34m''\u001b[0m\u001b[0;34m,\u001b[0m \u001b[0;34m\"audience_dataframes = [hourly_predictive_audience('fb', 'east', i, poker_apps) for i in a]\\n    \\n\"\u001b[0m\u001b[0;34m)\u001b[0m\u001b[0;34m\u001b[0m\u001b[0;34m\u001b[0m\u001b[0m\n\u001b[0m",
      "\u001b[0;32m~/anaconda3/envs/JupyterSystemEnv/lib/python3.6/site-packages/IPython/core/interactiveshell.py\u001b[0m in \u001b[0;36mrun_cell_magic\u001b[0;34m(self, magic_name, line, cell)\u001b[0m\n\u001b[1;32m   2345\u001b[0m                 \u001b[0mmagic_arg_s\u001b[0m \u001b[0;34m=\u001b[0m \u001b[0mself\u001b[0m\u001b[0;34m.\u001b[0m\u001b[0mvar_expand\u001b[0m\u001b[0;34m(\u001b[0m\u001b[0mline\u001b[0m\u001b[0;34m,\u001b[0m \u001b[0mstack_depth\u001b[0m\u001b[0;34m)\u001b[0m\u001b[0;34m\u001b[0m\u001b[0;34m\u001b[0m\u001b[0m\n\u001b[1;32m   2346\u001b[0m             \u001b[0;32mwith\u001b[0m \u001b[0mself\u001b[0m\u001b[0;34m.\u001b[0m\u001b[0mbuiltin_trap\u001b[0m\u001b[0;34m:\u001b[0m\u001b[0;34m\u001b[0m\u001b[0;34m\u001b[0m\u001b[0m\n\u001b[0;32m-> 2347\u001b[0;31m                 \u001b[0mresult\u001b[0m \u001b[0;34m=\u001b[0m \u001b[0mfn\u001b[0m\u001b[0;34m(\u001b[0m\u001b[0mmagic_arg_s\u001b[0m\u001b[0;34m,\u001b[0m \u001b[0mcell\u001b[0m\u001b[0;34m)\u001b[0m\u001b[0;34m\u001b[0m\u001b[0;34m\u001b[0m\u001b[0m\n\u001b[0m\u001b[1;32m   2348\u001b[0m             \u001b[0;32mreturn\u001b[0m \u001b[0mresult\u001b[0m\u001b[0;34m\u001b[0m\u001b[0;34m\u001b[0m\u001b[0m\n\u001b[1;32m   2349\u001b[0m \u001b[0;34m\u001b[0m\u001b[0m\n",
      "\u001b[0;32m</home/ec2-user/anaconda3/envs/JupyterSystemEnv/lib/python3.6/site-packages/decorator.py:decorator-gen-124>\u001b[0m in \u001b[0;36mspark\u001b[0;34m(self, *args, **kwargs)\u001b[0m\n",
      "\u001b[0;32m~/anaconda3/envs/JupyterSystemEnv/lib/python3.6/site-packages/IPython/core/magic.py\u001b[0m in \u001b[0;36m<lambda>\u001b[0;34m(f, *a, **k)\u001b[0m\n\u001b[1;32m    185\u001b[0m     \u001b[0;31m# but it's overkill for just that one bit of state.\u001b[0m\u001b[0;34m\u001b[0m\u001b[0;34m\u001b[0m\u001b[0;34m\u001b[0m\u001b[0m\n\u001b[1;32m    186\u001b[0m     \u001b[0;32mdef\u001b[0m \u001b[0mmagic_deco\u001b[0m\u001b[0;34m(\u001b[0m\u001b[0marg\u001b[0m\u001b[0;34m)\u001b[0m\u001b[0;34m:\u001b[0m\u001b[0;34m\u001b[0m\u001b[0;34m\u001b[0m\u001b[0m\n\u001b[0;32m--> 187\u001b[0;31m         \u001b[0mcall\u001b[0m \u001b[0;34m=\u001b[0m \u001b[0;32mlambda\u001b[0m \u001b[0mf\u001b[0m\u001b[0;34m,\u001b[0m \u001b[0;34m*\u001b[0m\u001b[0ma\u001b[0m\u001b[0;34m,\u001b[0m \u001b[0;34m**\u001b[0m\u001b[0mk\u001b[0m\u001b[0;34m:\u001b[0m \u001b[0mf\u001b[0m\u001b[0;34m(\u001b[0m\u001b[0;34m*\u001b[0m\u001b[0ma\u001b[0m\u001b[0;34m,\u001b[0m \u001b[0;34m**\u001b[0m\u001b[0mk\u001b[0m\u001b[0;34m)\u001b[0m\u001b[0;34m\u001b[0m\u001b[0;34m\u001b[0m\u001b[0m\n\u001b[0m\u001b[1;32m    188\u001b[0m \u001b[0;34m\u001b[0m\u001b[0m\n\u001b[1;32m    189\u001b[0m         \u001b[0;32mif\u001b[0m \u001b[0mcallable\u001b[0m\u001b[0;34m(\u001b[0m\u001b[0marg\u001b[0m\u001b[0;34m)\u001b[0m\u001b[0;34m:\u001b[0m\u001b[0;34m\u001b[0m\u001b[0;34m\u001b[0m\u001b[0m\n",
      "\u001b[0;32m~/anaconda3/envs/JupyterSystemEnv/lib/python3.6/site-packages/sparkmagic/livyclientlib/exceptions.py\u001b[0m in \u001b[0;36mwrapped\u001b[0;34m(self, *args, **kwargs)\u001b[0m\n\u001b[1;32m     94\u001b[0m     \u001b[0;32mdef\u001b[0m \u001b[0mwrapped\u001b[0m\u001b[0;34m(\u001b[0m\u001b[0mself\u001b[0m\u001b[0;34m,\u001b[0m \u001b[0;34m*\u001b[0m\u001b[0margs\u001b[0m\u001b[0;34m,\u001b[0m \u001b[0;34m**\u001b[0m\u001b[0mkwargs\u001b[0m\u001b[0;34m)\u001b[0m\u001b[0;34m:\u001b[0m\u001b[0;34m\u001b[0m\u001b[0;34m\u001b[0m\u001b[0m\n\u001b[1;32m     95\u001b[0m         \u001b[0;32mtry\u001b[0m\u001b[0;34m:\u001b[0m\u001b[0;34m\u001b[0m\u001b[0;34m\u001b[0m\u001b[0m\n\u001b[0;32m---> 96\u001b[0;31m             \u001b[0mout\u001b[0m \u001b[0;34m=\u001b[0m \u001b[0mf\u001b[0m\u001b[0;34m(\u001b[0m\u001b[0mself\u001b[0m\u001b[0;34m,\u001b[0m \u001b[0;34m*\u001b[0m\u001b[0margs\u001b[0m\u001b[0;34m,\u001b[0m \u001b[0;34m**\u001b[0m\u001b[0mkwargs\u001b[0m\u001b[0;34m)\u001b[0m\u001b[0;34m\u001b[0m\u001b[0;34m\u001b[0m\u001b[0m\n\u001b[0m\u001b[1;32m     97\u001b[0m         \u001b[0;32mexcept\u001b[0m \u001b[0mException\u001b[0m \u001b[0;32mas\u001b[0m \u001b[0me\u001b[0m\u001b[0;34m:\u001b[0m\u001b[0;34m\u001b[0m\u001b[0;34m\u001b[0m\u001b[0m\n\u001b[1;32m     98\u001b[0m             \u001b[0mself\u001b[0m\u001b[0;34m.\u001b[0m\u001b[0mlogger\u001b[0m\u001b[0;34m.\u001b[0m\u001b[0merror\u001b[0m\u001b[0;34m(\u001b[0m\u001b[0;34mu\"ENCOUNTERED AN INTERNAL ERROR: {}\\n\\tTraceback:\\n{}\"\u001b[0m\u001b[0;34m.\u001b[0m\u001b[0mformat\u001b[0m\u001b[0;34m(\u001b[0m\u001b[0me\u001b[0m\u001b[0;34m,\u001b[0m \u001b[0mtraceback\u001b[0m\u001b[0;34m.\u001b[0m\u001b[0mformat_exc\u001b[0m\u001b[0;34m(\u001b[0m\u001b[0;34m)\u001b[0m\u001b[0;34m)\u001b[0m\u001b[0;34m)\u001b[0m\u001b[0;34m\u001b[0m\u001b[0;34m\u001b[0m\u001b[0m\n",
      "\u001b[0;32m~/anaconda3/envs/JupyterSystemEnv/lib/python3.6/site-packages/sparkmagic/livyclientlib/exceptions.py\u001b[0m in \u001b[0;36mwrapped\u001b[0;34m(self, *args, **kwargs)\u001b[0m\n\u001b[1;32m     70\u001b[0m     \u001b[0;32mdef\u001b[0m \u001b[0mwrapped\u001b[0m\u001b[0;34m(\u001b[0m\u001b[0mself\u001b[0m\u001b[0;34m,\u001b[0m \u001b[0;34m*\u001b[0m\u001b[0margs\u001b[0m\u001b[0;34m,\u001b[0m \u001b[0;34m**\u001b[0m\u001b[0mkwargs\u001b[0m\u001b[0;34m)\u001b[0m\u001b[0;34m:\u001b[0m\u001b[0;34m\u001b[0m\u001b[0;34m\u001b[0m\u001b[0m\n\u001b[1;32m     71\u001b[0m         \u001b[0;32mtry\u001b[0m\u001b[0;34m:\u001b[0m\u001b[0;34m\u001b[0m\u001b[0;34m\u001b[0m\u001b[0m\n\u001b[0;32m---> 72\u001b[0;31m             \u001b[0mout\u001b[0m \u001b[0;34m=\u001b[0m \u001b[0mf\u001b[0m\u001b[0;34m(\u001b[0m\u001b[0mself\u001b[0m\u001b[0;34m,\u001b[0m \u001b[0;34m*\u001b[0m\u001b[0margs\u001b[0m\u001b[0;34m,\u001b[0m \u001b[0;34m**\u001b[0m\u001b[0mkwargs\u001b[0m\u001b[0;34m)\u001b[0m\u001b[0;34m\u001b[0m\u001b[0;34m\u001b[0m\u001b[0m\n\u001b[0m\u001b[1;32m     73\u001b[0m         \u001b[0;32mexcept\u001b[0m \u001b[0mexceptions_to_handle\u001b[0m \u001b[0;32mas\u001b[0m \u001b[0merr\u001b[0m\u001b[0;34m:\u001b[0m\u001b[0;34m\u001b[0m\u001b[0;34m\u001b[0m\u001b[0m\n\u001b[1;32m     74\u001b[0m             \u001b[0;31m# Do not log! as some messages may contain private client information\u001b[0m\u001b[0;34m\u001b[0m\u001b[0;34m\u001b[0m\u001b[0;34m\u001b[0m\u001b[0m\n",
      "\u001b[0;32m~/anaconda3/envs/JupyterSystemEnv/lib/python3.6/site-packages/sparkmagic/kernels/kernelmagics.py\u001b[0m in \u001b[0;36mspark\u001b[0;34m(self, line, cell, local_ns)\u001b[0m\n\u001b[1;32m    223\u001b[0m             \u001b[0mcoerce\u001b[0m \u001b[0;34m=\u001b[0m \u001b[0mget_coerce_value\u001b[0m\u001b[0;34m(\u001b[0m\u001b[0margs\u001b[0m\u001b[0;34m.\u001b[0m\u001b[0mcoerce\u001b[0m\u001b[0;34m)\u001b[0m\u001b[0;34m\u001b[0m\u001b[0;34m\u001b[0m\u001b[0m\n\u001b[1;32m    224\u001b[0m \u001b[0;34m\u001b[0m\u001b[0m\n\u001b[0;32m--> 225\u001b[0;31m             \u001b[0mself\u001b[0m\u001b[0;34m.\u001b[0m\u001b[0mexecute_spark\u001b[0m\u001b[0;34m(\u001b[0m\u001b[0mcell\u001b[0m\u001b[0;34m,\u001b[0m \u001b[0margs\u001b[0m\u001b[0;34m.\u001b[0m\u001b[0moutput\u001b[0m\u001b[0;34m,\u001b[0m \u001b[0margs\u001b[0m\u001b[0;34m.\u001b[0m\u001b[0msamplemethod\u001b[0m\u001b[0;34m,\u001b[0m \u001b[0margs\u001b[0m\u001b[0;34m.\u001b[0m\u001b[0mmaxrows\u001b[0m\u001b[0;34m,\u001b[0m \u001b[0margs\u001b[0m\u001b[0;34m.\u001b[0m\u001b[0msamplefraction\u001b[0m\u001b[0;34m,\u001b[0m \u001b[0;32mNone\u001b[0m\u001b[0;34m,\u001b[0m \u001b[0mcoerce\u001b[0m\u001b[0;34m)\u001b[0m\u001b[0;34m\u001b[0m\u001b[0;34m\u001b[0m\u001b[0m\n\u001b[0m\u001b[1;32m    226\u001b[0m         \u001b[0;32melse\u001b[0m\u001b[0;34m:\u001b[0m\u001b[0;34m\u001b[0m\u001b[0;34m\u001b[0m\u001b[0m\n\u001b[1;32m    227\u001b[0m             \u001b[0;32mreturn\u001b[0m\u001b[0;34m\u001b[0m\u001b[0;34m\u001b[0m\u001b[0m\n",
      "\u001b[0;32m~/anaconda3/envs/JupyterSystemEnv/lib/python3.6/site-packages/sparkmagic/magics/sparkmagicsbase.py\u001b[0m in \u001b[0;36mexecute_spark\u001b[0;34m(self, cell, output_var, samplemethod, maxrows, samplefraction, session_name, coerce)\u001b[0m\n\u001b[1;32m     39\u001b[0m \u001b[0;34m\u001b[0m\u001b[0m\n\u001b[1;32m     40\u001b[0m     \u001b[0;32mdef\u001b[0m \u001b[0mexecute_spark\u001b[0m\u001b[0;34m(\u001b[0m\u001b[0mself\u001b[0m\u001b[0;34m,\u001b[0m \u001b[0mcell\u001b[0m\u001b[0;34m,\u001b[0m \u001b[0moutput_var\u001b[0m\u001b[0;34m,\u001b[0m \u001b[0msamplemethod\u001b[0m\u001b[0;34m,\u001b[0m \u001b[0mmaxrows\u001b[0m\u001b[0;34m,\u001b[0m \u001b[0msamplefraction\u001b[0m\u001b[0;34m,\u001b[0m \u001b[0msession_name\u001b[0m\u001b[0;34m,\u001b[0m \u001b[0mcoerce\u001b[0m\u001b[0;34m)\u001b[0m\u001b[0;34m:\u001b[0m\u001b[0;34m\u001b[0m\u001b[0;34m\u001b[0m\u001b[0m\n\u001b[0;32m---> 41\u001b[0;31m         \u001b[0;34m(\u001b[0m\u001b[0msuccess\u001b[0m\u001b[0;34m,\u001b[0m \u001b[0mout\u001b[0m\u001b[0;34m)\u001b[0m \u001b[0;34m=\u001b[0m \u001b[0mself\u001b[0m\u001b[0;34m.\u001b[0m\u001b[0mspark_controller\u001b[0m\u001b[0;34m.\u001b[0m\u001b[0mrun_command\u001b[0m\u001b[0;34m(\u001b[0m\u001b[0mCommand\u001b[0m\u001b[0;34m(\u001b[0m\u001b[0mcell\u001b[0m\u001b[0;34m)\u001b[0m\u001b[0;34m,\u001b[0m \u001b[0msession_name\u001b[0m\u001b[0;34m)\u001b[0m\u001b[0;34m\u001b[0m\u001b[0;34m\u001b[0m\u001b[0m\n\u001b[0m\u001b[1;32m     42\u001b[0m         \u001b[0;32mif\u001b[0m \u001b[0;32mnot\u001b[0m \u001b[0msuccess\u001b[0m\u001b[0;34m:\u001b[0m\u001b[0;34m\u001b[0m\u001b[0;34m\u001b[0m\u001b[0m\n\u001b[1;32m     43\u001b[0m             \u001b[0mself\u001b[0m\u001b[0;34m.\u001b[0m\u001b[0mipython_display\u001b[0m\u001b[0;34m.\u001b[0m\u001b[0msend_error\u001b[0m\u001b[0;34m(\u001b[0m\u001b[0mout\u001b[0m\u001b[0;34m)\u001b[0m\u001b[0;34m\u001b[0m\u001b[0;34m\u001b[0m\u001b[0m\n",
      "\u001b[0;32m~/anaconda3/envs/JupyterSystemEnv/lib/python3.6/site-packages/sparkmagic/livyclientlib/sparkcontroller.py\u001b[0m in \u001b[0;36mrun_command\u001b[0;34m(self, command, client_name)\u001b[0m\n\u001b[1;32m     34\u001b[0m     \u001b[0;32mdef\u001b[0m \u001b[0mrun_command\u001b[0m\u001b[0;34m(\u001b[0m\u001b[0mself\u001b[0m\u001b[0;34m,\u001b[0m \u001b[0mcommand\u001b[0m\u001b[0;34m,\u001b[0m \u001b[0mclient_name\u001b[0m\u001b[0;34m=\u001b[0m\u001b[0;32mNone\u001b[0m\u001b[0;34m)\u001b[0m\u001b[0;34m:\u001b[0m\u001b[0;34m\u001b[0m\u001b[0;34m\u001b[0m\u001b[0m\n\u001b[1;32m     35\u001b[0m         \u001b[0msession_to_use\u001b[0m \u001b[0;34m=\u001b[0m \u001b[0mself\u001b[0m\u001b[0;34m.\u001b[0m\u001b[0mget_session_by_name_or_default\u001b[0m\u001b[0;34m(\u001b[0m\u001b[0mclient_name\u001b[0m\u001b[0;34m)\u001b[0m\u001b[0;34m\u001b[0m\u001b[0;34m\u001b[0m\u001b[0m\n\u001b[0;32m---> 36\u001b[0;31m         \u001b[0;32mreturn\u001b[0m \u001b[0mcommand\u001b[0m\u001b[0;34m.\u001b[0m\u001b[0mexecute\u001b[0m\u001b[0;34m(\u001b[0m\u001b[0msession_to_use\u001b[0m\u001b[0;34m)\u001b[0m\u001b[0;34m\u001b[0m\u001b[0;34m\u001b[0m\u001b[0m\n\u001b[0m\u001b[1;32m     37\u001b[0m \u001b[0;34m\u001b[0m\u001b[0m\n\u001b[1;32m     38\u001b[0m     \u001b[0;32mdef\u001b[0m \u001b[0mrun_sqlquery\u001b[0m\u001b[0;34m(\u001b[0m\u001b[0mself\u001b[0m\u001b[0;34m,\u001b[0m \u001b[0msqlquery\u001b[0m\u001b[0;34m,\u001b[0m \u001b[0mclient_name\u001b[0m\u001b[0;34m=\u001b[0m\u001b[0;32mNone\u001b[0m\u001b[0;34m)\u001b[0m\u001b[0;34m:\u001b[0m\u001b[0;34m\u001b[0m\u001b[0;34m\u001b[0m\u001b[0m\n",
      "\u001b[0;32m~/anaconda3/envs/JupyterSystemEnv/lib/python3.6/site-packages/sparkmagic/livyclientlib/command.py\u001b[0m in \u001b[0;36mexecute\u001b[0;34m(self, session)\u001b[0m\n\u001b[1;32m     33\u001b[0m             \u001b[0mresponse\u001b[0m \u001b[0;34m=\u001b[0m \u001b[0msession\u001b[0m\u001b[0;34m.\u001b[0m\u001b[0mhttp_client\u001b[0m\u001b[0;34m.\u001b[0m\u001b[0mpost_statement\u001b[0m\u001b[0;34m(\u001b[0m\u001b[0msession\u001b[0m\u001b[0;34m.\u001b[0m\u001b[0mid\u001b[0m\u001b[0;34m,\u001b[0m \u001b[0mdata\u001b[0m\u001b[0;34m)\u001b[0m\u001b[0;34m\u001b[0m\u001b[0;34m\u001b[0m\u001b[0m\n\u001b[1;32m     34\u001b[0m             \u001b[0mstatement_id\u001b[0m \u001b[0;34m=\u001b[0m \u001b[0mresponse\u001b[0m\u001b[0;34m[\u001b[0m\u001b[0;34mu'id'\u001b[0m\u001b[0;34m]\u001b[0m\u001b[0;34m\u001b[0m\u001b[0;34m\u001b[0m\u001b[0m\n\u001b[0;32m---> 35\u001b[0;31m             \u001b[0moutput\u001b[0m \u001b[0;34m=\u001b[0m \u001b[0mself\u001b[0m\u001b[0;34m.\u001b[0m\u001b[0m_get_statement_output\u001b[0m\u001b[0;34m(\u001b[0m\u001b[0msession\u001b[0m\u001b[0;34m,\u001b[0m \u001b[0mstatement_id\u001b[0m\u001b[0;34m)\u001b[0m\u001b[0;34m\u001b[0m\u001b[0;34m\u001b[0m\u001b[0m\n\u001b[0m\u001b[1;32m     36\u001b[0m         \u001b[0;32mexcept\u001b[0m \u001b[0mException\u001b[0m \u001b[0;32mas\u001b[0m \u001b[0me\u001b[0m\u001b[0;34m:\u001b[0m\u001b[0;34m\u001b[0m\u001b[0;34m\u001b[0m\u001b[0m\n\u001b[1;32m     37\u001b[0m             self._spark_events.emit_statement_execution_end_event(session.guid, session.kind, session.id,\n",
      "\u001b[0;32m~/anaconda3/envs/JupyterSystemEnv/lib/python3.6/site-packages/sparkmagic/livyclientlib/command.py\u001b[0m in \u001b[0;36m_get_statement_output\u001b[0;34m(self, session, statement_id)\u001b[0m\n\u001b[1;32m     52\u001b[0m \u001b[0;34m\u001b[0m\u001b[0m\n\u001b[1;32m     53\u001b[0m             \u001b[0;32mif\u001b[0m \u001b[0mstatus\u001b[0m \u001b[0;32mnot\u001b[0m \u001b[0;32min\u001b[0m \u001b[0mFINAL_STATEMENT_STATUS\u001b[0m\u001b[0;34m:\u001b[0m\u001b[0;34m\u001b[0m\u001b[0;34m\u001b[0m\u001b[0m\n\u001b[0;32m---> 54\u001b[0;31m                 \u001b[0msession\u001b[0m\u001b[0;34m.\u001b[0m\u001b[0msleep\u001b[0m\u001b[0;34m(\u001b[0m\u001b[0;34m)\u001b[0m\u001b[0;34m\u001b[0m\u001b[0;34m\u001b[0m\u001b[0m\n\u001b[0m\u001b[1;32m     55\u001b[0m             \u001b[0;32melse\u001b[0m\u001b[0;34m:\u001b[0m\u001b[0;34m\u001b[0m\u001b[0;34m\u001b[0m\u001b[0m\n\u001b[1;32m     56\u001b[0m                 \u001b[0mstatement_output\u001b[0m \u001b[0;34m=\u001b[0m \u001b[0mstatement\u001b[0m\u001b[0;34m[\u001b[0m\u001b[0;34mu\"output\"\u001b[0m\u001b[0;34m]\u001b[0m\u001b[0;34m\u001b[0m\u001b[0;34m\u001b[0m\u001b[0m\n",
      "\u001b[0;32m~/anaconda3/envs/JupyterSystemEnv/lib/python3.6/site-packages/sparkmagic/livyclientlib/livysession.py\u001b[0m in \u001b[0;36msleep\u001b[0;34m(self)\u001b[0m\n\u001b[1;32m    259\u001b[0m \u001b[0;34m\u001b[0m\u001b[0m\n\u001b[1;32m    260\u001b[0m     \u001b[0;32mdef\u001b[0m \u001b[0msleep\u001b[0m\u001b[0;34m(\u001b[0m\u001b[0mself\u001b[0m\u001b[0;34m)\u001b[0m\u001b[0;34m:\u001b[0m\u001b[0;34m\u001b[0m\u001b[0;34m\u001b[0m\u001b[0m\n\u001b[0;32m--> 261\u001b[0;31m         \u001b[0msleep\u001b[0m\u001b[0;34m(\u001b[0m\u001b[0mself\u001b[0m\u001b[0;34m.\u001b[0m\u001b[0m_statement_sleep_seconds\u001b[0m\u001b[0;34m)\u001b[0m\u001b[0;34m\u001b[0m\u001b[0;34m\u001b[0m\u001b[0m\n\u001b[0m\u001b[1;32m    262\u001b[0m \u001b[0;34m\u001b[0m\u001b[0m\n\u001b[1;32m    263\u001b[0m     \u001b[0;31m# This function will refresh the status and get the logs in a single call.\u001b[0m\u001b[0;34m\u001b[0m\u001b[0;34m\u001b[0m\u001b[0;34m\u001b[0m\u001b[0m\n",
      "\u001b[0;31mKeyboardInterrupt\u001b[0m: "
     ]
    }
   ],
   "source": [
    "audience_dataframes = [hourly_predictive_audience('fb', 'east', i, poker_apps) for i in a]  "
   ]
  },
  {
   "cell_type": "code",
   "execution_count": null,
   "metadata": {},
   "outputs": [],
   "source": [
    "for id, x in enumerate(audience_dataframes):\n",
    "    pokerUsersFinal.coalesce(1).write.save(\"s3://zynga-beeswax/audience/poker/predictive_audience{}.csv\".format(id), format='csv', header=True)"
   ]
  }
 ],
 "metadata": {
  "kernelspec": {
   "display_name": "Sparkmagic (PySpark)",
   "language": "",
   "name": "pysparkkernel"
  },
  "language_info": {
   "codemirror_mode": {
    "name": "python",
    "version": 2
   },
   "mimetype": "text/x-python",
   "name": "pyspark",
   "pygments_lexer": "python2"
  }
 },
 "nbformat": 4,
 "nbformat_minor": 2
}
